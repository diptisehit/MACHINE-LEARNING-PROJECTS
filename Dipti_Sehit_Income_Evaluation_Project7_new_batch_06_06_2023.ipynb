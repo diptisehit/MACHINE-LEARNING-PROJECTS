{
 "cells": [
  {
   "cell_type": "markdown",
   "id": "556c5f11",
   "metadata": {},
   "source": [
    "#  Income evaluation prediction ML model"
   ]
  },
  {
   "cell_type": "markdown",
   "id": "162e9a98",
   "metadata": {},
   "source": [
    "# Objective"
   ]
  },
  {
   "cell_type": "markdown",
   "id": "fab67619",
   "metadata": {},
   "source": [
    "\n",
    "    1. By utilizing machine learning techniques, we aim to develop a robust model that can accurately classify individuals into different income categories (e.g., high-income and low-income) based on the provided features.\n",
    "\n",
    "\n",
    "\n",
    "    2. Identify the factors that contribute to higher incomes.\n",
    "    \n"
   ]
  },
  {
   "cell_type": "markdown",
   "id": "0c5a51d8",
   "metadata": {},
   "source": [
    "# About the dataset-\n",
    "\n",
    "This dataset contains 15 variables related to employee's profile, demographic, economic, and social data pertaining to a specific time to all persons in a country or delimited part of a country.\n",
    "\n",
    "The code below will show us some information about the continunous parameters that our dataset contains.\n",
    "\n",
    "    1. Age is Age\n",
    "    2. fnlwgt is final weight, or the number of people that are represented in this group relative to the overall population of this dataset.\n",
    "    3. education-num is a numerical way of representing Education level\n",
    "    4. capital-gain is the money made investments\n",
    "    5. capital-loss is the loss from investments\n",
    "    6. hours-per-week is the number of hours worked during a week"
   ]
  },
  {
   "cell_type": "code",
   "execution_count": 1,
   "id": "33bb0204",
   "metadata": {},
   "outputs": [],
   "source": [
    "# import basic libraries\n",
    "import numpy as np\n",
    "import pandas as pd\n",
    "import seaborn as sns\n",
    "import matplotlib.pyplot as plt\n",
    "%matplotlib inline\n",
    "import warnings\n",
    "warnings.filterwarnings(\"ignore\")"
   ]
  },
  {
   "cell_type": "code",
   "execution_count": 2,
   "id": "48a9a8ce",
   "metadata": {},
   "outputs": [],
   "source": [
    "datafile=pd.read_csv('Data_inc.csv')"
   ]
  },
  {
   "cell_type": "code",
   "execution_count": 3,
   "id": "d8c6ed90",
   "metadata": {},
   "outputs": [
    {
     "data": {
      "text/html": [
       "<div>\n",
       "<style scoped>\n",
       "    .dataframe tbody tr th:only-of-type {\n",
       "        vertical-align: middle;\n",
       "    }\n",
       "\n",
       "    .dataframe tbody tr th {\n",
       "        vertical-align: top;\n",
       "    }\n",
       "\n",
       "    .dataframe thead th {\n",
       "        text-align: right;\n",
       "    }\n",
       "</style>\n",
       "<table border=\"1\" class=\"dataframe\">\n",
       "  <thead>\n",
       "    <tr style=\"text-align: right;\">\n",
       "      <th></th>\n",
       "      <th>Age</th>\n",
       "      <th>Profession Class</th>\n",
       "      <th>Final_census</th>\n",
       "      <th>Education</th>\n",
       "      <th>Education-num</th>\n",
       "      <th>marital-status</th>\n",
       "      <th>occupation</th>\n",
       "      <th>relationship</th>\n",
       "      <th>race</th>\n",
       "      <th>Gender</th>\n",
       "      <th>capital-gain</th>\n",
       "      <th>capital-loss</th>\n",
       "      <th>hours-per-week</th>\n",
       "      <th>country</th>\n",
       "      <th>income</th>\n",
       "      <th>Unnamed: 15</th>\n",
       "    </tr>\n",
       "  </thead>\n",
       "  <tbody>\n",
       "    <tr>\n",
       "      <th>0</th>\n",
       "      <td>39</td>\n",
       "      <td>State-gov</td>\n",
       "      <td>77516</td>\n",
       "      <td>Bachelors</td>\n",
       "      <td>13</td>\n",
       "      <td>Never-married</td>\n",
       "      <td>Adm-clerical</td>\n",
       "      <td>Not-in-family</td>\n",
       "      <td>White</td>\n",
       "      <td>Male</td>\n",
       "      <td>2174</td>\n",
       "      <td>0</td>\n",
       "      <td>40</td>\n",
       "      <td>United-States</td>\n",
       "      <td>&lt;=50K</td>\n",
       "      <td>NaN</td>\n",
       "    </tr>\n",
       "    <tr>\n",
       "      <th>1</th>\n",
       "      <td>50</td>\n",
       "      <td>Self-emp-not-inc</td>\n",
       "      <td>83311</td>\n",
       "      <td>Bachelors</td>\n",
       "      <td>13</td>\n",
       "      <td>Married-civ-spouse</td>\n",
       "      <td>Exec-managerial</td>\n",
       "      <td>Husband</td>\n",
       "      <td>White</td>\n",
       "      <td>Male</td>\n",
       "      <td>0</td>\n",
       "      <td>0</td>\n",
       "      <td>13</td>\n",
       "      <td>United-States</td>\n",
       "      <td>&lt;=50K</td>\n",
       "      <td>NaN</td>\n",
       "    </tr>\n",
       "    <tr>\n",
       "      <th>2</th>\n",
       "      <td>38</td>\n",
       "      <td>Private</td>\n",
       "      <td>215646</td>\n",
       "      <td>HS-grad</td>\n",
       "      <td>9</td>\n",
       "      <td>Divorced</td>\n",
       "      <td>Handlers-cleaners</td>\n",
       "      <td>Not-in-family</td>\n",
       "      <td>White</td>\n",
       "      <td>Male</td>\n",
       "      <td>0</td>\n",
       "      <td>0</td>\n",
       "      <td>40</td>\n",
       "      <td>United-States</td>\n",
       "      <td>&lt;=50K</td>\n",
       "      <td>NaN</td>\n",
       "    </tr>\n",
       "    <tr>\n",
       "      <th>3</th>\n",
       "      <td>53</td>\n",
       "      <td>Private</td>\n",
       "      <td>234721</td>\n",
       "      <td>11th</td>\n",
       "      <td>7</td>\n",
       "      <td>Married-civ-spouse</td>\n",
       "      <td>Handlers-cleaners</td>\n",
       "      <td>Husband</td>\n",
       "      <td>Black</td>\n",
       "      <td>Male</td>\n",
       "      <td>0</td>\n",
       "      <td>0</td>\n",
       "      <td>40</td>\n",
       "      <td>United-States</td>\n",
       "      <td>&lt;=50K</td>\n",
       "      <td>NaN</td>\n",
       "    </tr>\n",
       "    <tr>\n",
       "      <th>4</th>\n",
       "      <td>28</td>\n",
       "      <td>Private</td>\n",
       "      <td>338409</td>\n",
       "      <td>Bachelors</td>\n",
       "      <td>13</td>\n",
       "      <td>Married-civ-spouse</td>\n",
       "      <td>Prof-specialty</td>\n",
       "      <td>Wife</td>\n",
       "      <td>Black</td>\n",
       "      <td>Female</td>\n",
       "      <td>0</td>\n",
       "      <td>0</td>\n",
       "      <td>40</td>\n",
       "      <td>Cuba</td>\n",
       "      <td>&lt;=50K</td>\n",
       "      <td>NaN</td>\n",
       "    </tr>\n",
       "  </tbody>\n",
       "</table>\n",
       "</div>"
      ],
      "text/plain": [
       "   Age   Profession Class  Final_census   Education   Education-num  \\\n",
       "0   39          State-gov         77516   Bachelors              13   \n",
       "1   50   Self-emp-not-inc         83311   Bachelors              13   \n",
       "2   38            Private        215646     HS-grad               9   \n",
       "3   53            Private        234721        11th               7   \n",
       "4   28            Private        338409   Bachelors              13   \n",
       "\n",
       "        marital-status          occupation    relationship    race   Gender  \\\n",
       "0        Never-married        Adm-clerical   Not-in-family   White     Male   \n",
       "1   Married-civ-spouse     Exec-managerial         Husband   White     Male   \n",
       "2             Divorced   Handlers-cleaners   Not-in-family   White     Male   \n",
       "3   Married-civ-spouse   Handlers-cleaners         Husband   Black     Male   \n",
       "4   Married-civ-spouse      Prof-specialty            Wife   Black   Female   \n",
       "\n",
       "    capital-gain   capital-loss   hours-per-week         country  income  \\\n",
       "0           2174              0               40   United-States   <=50K   \n",
       "1              0              0               13   United-States   <=50K   \n",
       "2              0              0               40   United-States   <=50K   \n",
       "3              0              0               40   United-States   <=50K   \n",
       "4              0              0               40            Cuba   <=50K   \n",
       "\n",
       "   Unnamed: 15  \n",
       "0          NaN  \n",
       "1          NaN  \n",
       "2          NaN  \n",
       "3          NaN  \n",
       "4          NaN  "
      ]
     },
     "execution_count": 3,
     "metadata": {},
     "output_type": "execute_result"
    }
   ],
   "source": [
    "datafile.head()"
   ]
  },
  {
   "cell_type": "code",
   "execution_count": 4,
   "id": "90784404",
   "metadata": {},
   "outputs": [
    {
     "data": {
      "text/plain": [
       "(32561, 16)"
      ]
     },
     "execution_count": 4,
     "metadata": {},
     "output_type": "execute_result"
    }
   ],
   "source": [
    "datafile.shape"
   ]
  },
  {
   "cell_type": "code",
   "execution_count": 5,
   "id": "f2b34ed4",
   "metadata": {},
   "outputs": [],
   "source": [
    "# This col has no significance so dropping it\n",
    "datafile.drop('Unnamed: 15',axis=1,inplace=True)"
   ]
  },
  {
   "cell_type": "code",
   "execution_count": 6,
   "id": "71ff6bd7",
   "metadata": {},
   "outputs": [
    {
     "data": {
      "text/plain": [
       "(32561, 15)"
      ]
     },
     "execution_count": 6,
     "metadata": {},
     "output_type": "execute_result"
    }
   ],
   "source": [
    "datafile.shape"
   ]
  },
  {
   "cell_type": "code",
   "execution_count": 7,
   "id": "bdd680c9",
   "metadata": {},
   "outputs": [
    {
     "name": "stdout",
     "output_type": "stream",
     "text": [
      "<class 'pandas.core.frame.DataFrame'>\n",
      "RangeIndex: 32561 entries, 0 to 32560\n",
      "Data columns (total 15 columns):\n",
      " #   Column            Non-Null Count  Dtype \n",
      "---  ------            --------------  ----- \n",
      " 0   Age               32561 non-null  int64 \n",
      " 1   Profession Class  32561 non-null  object\n",
      " 2   Final_census      32561 non-null  int64 \n",
      " 3    Education        32561 non-null  object\n",
      " 4    Education-num    32561 non-null  int64 \n",
      " 5    marital-status   32561 non-null  object\n",
      " 6    occupation       32561 non-null  object\n",
      " 7    relationship     32561 non-null  object\n",
      " 8    race             32561 non-null  object\n",
      " 9   Gender            32561 non-null  object\n",
      " 10   capital-gain     32561 non-null  int64 \n",
      " 11   capital-loss     32561 non-null  int64 \n",
      " 12   hours-per-week   32561 non-null  int64 \n",
      " 13   country          32561 non-null  object\n",
      " 14   income           32561 non-null  object\n",
      "dtypes: int64(6), object(9)\n",
      "memory usage: 3.7+ MB\n"
     ]
    }
   ],
   "source": [
    "datafile.info()"
   ]
  },
  {
   "cell_type": "markdown",
   "id": "2a7bf98c",
   "metadata": {},
   "source": [
    "# Dataset is showing that no null values are there. Numeric columns are correctly typed as int. But the column names are not properlyspaced and named."
   ]
  },
  {
   "cell_type": "code",
   "execution_count": 8,
   "id": "e1b1be60",
   "metadata": {},
   "outputs": [],
   "source": [
    "# Renaming columns properly\n",
    "\n",
    "datafile.rename({' Education':'Education',' Education-num':'Education_num',' marital-status':'Marital_status',\n",
    "                 ' occupation':'Occupation',' relationship':'Relationship',' race':'Race',' capital-gain':'Capital_gain',\n",
    "                ' capital-loss':'Capital_loss',' hours-per-week':'Hours_per_week',' country':'Country',\n",
    "                 ' income':'Income'}, axis=1,inplace=True)"
   ]
  },
  {
   "cell_type": "code",
   "execution_count": 9,
   "id": "0435bb51",
   "metadata": {},
   "outputs": [
    {
     "data": {
      "text/plain": [
       "Age                 0\n",
       "Profession Class    0\n",
       "Final_census        0\n",
       "Education           0\n",
       "Education_num       0\n",
       "Marital_status      0\n",
       "Occupation          0\n",
       "Relationship        0\n",
       "Race                0\n",
       "Gender              0\n",
       "Capital_gain        0\n",
       "Capital_loss        0\n",
       "Hours_per_week      0\n",
       "Country             0\n",
       "Income              0\n",
       "dtype: int64"
      ]
     },
     "execution_count": 9,
     "metadata": {},
     "output_type": "execute_result"
    }
   ],
   "source": [
    "datafile.isnull().sum()"
   ]
  },
  {
   "cell_type": "markdown",
   "id": "f5fe6da3",
   "metadata": {},
   "source": [
    "# 24 Dupicate rows found -"
   ]
  },
  {
   "cell_type": "code",
   "execution_count": 10,
   "id": "8ac89577",
   "metadata": {},
   "outputs": [
    {
     "data": {
      "text/plain": [
       "24"
      ]
     },
     "execution_count": 10,
     "metadata": {},
     "output_type": "execute_result"
    }
   ],
   "source": [
    "datafile.duplicated().sum()"
   ]
  },
  {
   "cell_type": "code",
   "execution_count": 11,
   "id": "87bf2db1",
   "metadata": {},
   "outputs": [
    {
     "data": {
      "text/html": [
       "<div>\n",
       "<style scoped>\n",
       "    .dataframe tbody tr th:only-of-type {\n",
       "        vertical-align: middle;\n",
       "    }\n",
       "\n",
       "    .dataframe tbody tr th {\n",
       "        vertical-align: top;\n",
       "    }\n",
       "\n",
       "    .dataframe thead th {\n",
       "        text-align: right;\n",
       "    }\n",
       "</style>\n",
       "<table border=\"1\" class=\"dataframe\">\n",
       "  <thead>\n",
       "    <tr style=\"text-align: right;\">\n",
       "      <th></th>\n",
       "      <th>Age</th>\n",
       "      <th>Profession Class</th>\n",
       "      <th>Final_census</th>\n",
       "      <th>Education</th>\n",
       "      <th>Education_num</th>\n",
       "      <th>Marital_status</th>\n",
       "      <th>Occupation</th>\n",
       "      <th>Relationship</th>\n",
       "      <th>Race</th>\n",
       "      <th>Gender</th>\n",
       "      <th>Capital_gain</th>\n",
       "      <th>Capital_loss</th>\n",
       "      <th>Hours_per_week</th>\n",
       "      <th>Country</th>\n",
       "      <th>Income</th>\n",
       "    </tr>\n",
       "  </thead>\n",
       "  <tbody>\n",
       "    <tr>\n",
       "      <th>4881</th>\n",
       "      <td>25</td>\n",
       "      <td>Private</td>\n",
       "      <td>308144</td>\n",
       "      <td>Bachelors</td>\n",
       "      <td>13</td>\n",
       "      <td>Never-married</td>\n",
       "      <td>Craft-repair</td>\n",
       "      <td>Not-in-family</td>\n",
       "      <td>White</td>\n",
       "      <td>Male</td>\n",
       "      <td>0</td>\n",
       "      <td>0</td>\n",
       "      <td>40</td>\n",
       "      <td>Mexico</td>\n",
       "      <td>&lt;=50K</td>\n",
       "    </tr>\n",
       "    <tr>\n",
       "      <th>5104</th>\n",
       "      <td>90</td>\n",
       "      <td>Private</td>\n",
       "      <td>52386</td>\n",
       "      <td>Some-college</td>\n",
       "      <td>10</td>\n",
       "      <td>Never-married</td>\n",
       "      <td>Other-service</td>\n",
       "      <td>Not-in-family</td>\n",
       "      <td>Asian-Pac-Islander</td>\n",
       "      <td>Male</td>\n",
       "      <td>0</td>\n",
       "      <td>0</td>\n",
       "      <td>35</td>\n",
       "      <td>United-States</td>\n",
       "      <td>&lt;=50K</td>\n",
       "    </tr>\n",
       "    <tr>\n",
       "      <th>9171</th>\n",
       "      <td>21</td>\n",
       "      <td>Private</td>\n",
       "      <td>250051</td>\n",
       "      <td>Some-college</td>\n",
       "      <td>10</td>\n",
       "      <td>Never-married</td>\n",
       "      <td>Prof-specialty</td>\n",
       "      <td>Own-child</td>\n",
       "      <td>White</td>\n",
       "      <td>Female</td>\n",
       "      <td>0</td>\n",
       "      <td>0</td>\n",
       "      <td>10</td>\n",
       "      <td>United-States</td>\n",
       "      <td>&lt;=50K</td>\n",
       "    </tr>\n",
       "    <tr>\n",
       "      <th>11631</th>\n",
       "      <td>20</td>\n",
       "      <td>Private</td>\n",
       "      <td>107658</td>\n",
       "      <td>Some-college</td>\n",
       "      <td>10</td>\n",
       "      <td>Never-married</td>\n",
       "      <td>Tech-support</td>\n",
       "      <td>Not-in-family</td>\n",
       "      <td>White</td>\n",
       "      <td>Female</td>\n",
       "      <td>0</td>\n",
       "      <td>0</td>\n",
       "      <td>10</td>\n",
       "      <td>United-States</td>\n",
       "      <td>&lt;=50K</td>\n",
       "    </tr>\n",
       "    <tr>\n",
       "      <th>13084</th>\n",
       "      <td>25</td>\n",
       "      <td>Private</td>\n",
       "      <td>195994</td>\n",
       "      <td>1st-4th</td>\n",
       "      <td>2</td>\n",
       "      <td>Never-married</td>\n",
       "      <td>Priv-house-serv</td>\n",
       "      <td>Not-in-family</td>\n",
       "      <td>White</td>\n",
       "      <td>Female</td>\n",
       "      <td>0</td>\n",
       "      <td>0</td>\n",
       "      <td>40</td>\n",
       "      <td>Guatemala</td>\n",
       "      <td>&lt;=50K</td>\n",
       "    </tr>\n",
       "    <tr>\n",
       "      <th>15059</th>\n",
       "      <td>21</td>\n",
       "      <td>Private</td>\n",
       "      <td>243368</td>\n",
       "      <td>Preschool</td>\n",
       "      <td>1</td>\n",
       "      <td>Never-married</td>\n",
       "      <td>Farming-fishing</td>\n",
       "      <td>Not-in-family</td>\n",
       "      <td>White</td>\n",
       "      <td>Male</td>\n",
       "      <td>0</td>\n",
       "      <td>0</td>\n",
       "      <td>50</td>\n",
       "      <td>Mexico</td>\n",
       "      <td>&lt;=50K</td>\n",
       "    </tr>\n",
       "    <tr>\n",
       "      <th>17040</th>\n",
       "      <td>46</td>\n",
       "      <td>Private</td>\n",
       "      <td>173243</td>\n",
       "      <td>HS-grad</td>\n",
       "      <td>9</td>\n",
       "      <td>Married-civ-spouse</td>\n",
       "      <td>Craft-repair</td>\n",
       "      <td>Husband</td>\n",
       "      <td>White</td>\n",
       "      <td>Male</td>\n",
       "      <td>0</td>\n",
       "      <td>0</td>\n",
       "      <td>40</td>\n",
       "      <td>United-States</td>\n",
       "      <td>&lt;=50K</td>\n",
       "    </tr>\n",
       "    <tr>\n",
       "      <th>18555</th>\n",
       "      <td>30</td>\n",
       "      <td>Private</td>\n",
       "      <td>144593</td>\n",
       "      <td>HS-grad</td>\n",
       "      <td>9</td>\n",
       "      <td>Never-married</td>\n",
       "      <td>Other-service</td>\n",
       "      <td>Not-in-family</td>\n",
       "      <td>Black</td>\n",
       "      <td>Male</td>\n",
       "      <td>0</td>\n",
       "      <td>0</td>\n",
       "      <td>40</td>\n",
       "      <td>?</td>\n",
       "      <td>&lt;=50K</td>\n",
       "    </tr>\n",
       "    <tr>\n",
       "      <th>18698</th>\n",
       "      <td>19</td>\n",
       "      <td>Private</td>\n",
       "      <td>97261</td>\n",
       "      <td>HS-grad</td>\n",
       "      <td>9</td>\n",
       "      <td>Never-married</td>\n",
       "      <td>Farming-fishing</td>\n",
       "      <td>Not-in-family</td>\n",
       "      <td>White</td>\n",
       "      <td>Male</td>\n",
       "      <td>0</td>\n",
       "      <td>0</td>\n",
       "      <td>40</td>\n",
       "      <td>United-States</td>\n",
       "      <td>&lt;=50K</td>\n",
       "    </tr>\n",
       "    <tr>\n",
       "      <th>21318</th>\n",
       "      <td>19</td>\n",
       "      <td>Private</td>\n",
       "      <td>138153</td>\n",
       "      <td>Some-college</td>\n",
       "      <td>10</td>\n",
       "      <td>Never-married</td>\n",
       "      <td>Adm-clerical</td>\n",
       "      <td>Own-child</td>\n",
       "      <td>White</td>\n",
       "      <td>Female</td>\n",
       "      <td>0</td>\n",
       "      <td>0</td>\n",
       "      <td>10</td>\n",
       "      <td>United-States</td>\n",
       "      <td>&lt;=50K</td>\n",
       "    </tr>\n",
       "    <tr>\n",
       "      <th>21490</th>\n",
       "      <td>19</td>\n",
       "      <td>Private</td>\n",
       "      <td>146679</td>\n",
       "      <td>Some-college</td>\n",
       "      <td>10</td>\n",
       "      <td>Never-married</td>\n",
       "      <td>Exec-managerial</td>\n",
       "      <td>Own-child</td>\n",
       "      <td>Black</td>\n",
       "      <td>Male</td>\n",
       "      <td>0</td>\n",
       "      <td>0</td>\n",
       "      <td>30</td>\n",
       "      <td>United-States</td>\n",
       "      <td>&lt;=50K</td>\n",
       "    </tr>\n",
       "    <tr>\n",
       "      <th>21875</th>\n",
       "      <td>49</td>\n",
       "      <td>Private</td>\n",
       "      <td>31267</td>\n",
       "      <td>7th-8th</td>\n",
       "      <td>4</td>\n",
       "      <td>Married-civ-spouse</td>\n",
       "      <td>Craft-repair</td>\n",
       "      <td>Husband</td>\n",
       "      <td>White</td>\n",
       "      <td>Male</td>\n",
       "      <td>0</td>\n",
       "      <td>0</td>\n",
       "      <td>40</td>\n",
       "      <td>United-States</td>\n",
       "      <td>&lt;=50K</td>\n",
       "    </tr>\n",
       "    <tr>\n",
       "      <th>22300</th>\n",
       "      <td>25</td>\n",
       "      <td>Private</td>\n",
       "      <td>195994</td>\n",
       "      <td>1st-4th</td>\n",
       "      <td>2</td>\n",
       "      <td>Never-married</td>\n",
       "      <td>Priv-house-serv</td>\n",
       "      <td>Not-in-family</td>\n",
       "      <td>White</td>\n",
       "      <td>Female</td>\n",
       "      <td>0</td>\n",
       "      <td>0</td>\n",
       "      <td>40</td>\n",
       "      <td>Guatemala</td>\n",
       "      <td>&lt;=50K</td>\n",
       "    </tr>\n",
       "    <tr>\n",
       "      <th>22367</th>\n",
       "      <td>44</td>\n",
       "      <td>Private</td>\n",
       "      <td>367749</td>\n",
       "      <td>Bachelors</td>\n",
       "      <td>13</td>\n",
       "      <td>Never-married</td>\n",
       "      <td>Prof-specialty</td>\n",
       "      <td>Not-in-family</td>\n",
       "      <td>White</td>\n",
       "      <td>Female</td>\n",
       "      <td>0</td>\n",
       "      <td>0</td>\n",
       "      <td>45</td>\n",
       "      <td>Mexico</td>\n",
       "      <td>&lt;=50K</td>\n",
       "    </tr>\n",
       "    <tr>\n",
       "      <th>22494</th>\n",
       "      <td>49</td>\n",
       "      <td>Self-emp-not-inc</td>\n",
       "      <td>43479</td>\n",
       "      <td>Some-college</td>\n",
       "      <td>10</td>\n",
       "      <td>Married-civ-spouse</td>\n",
       "      <td>Craft-repair</td>\n",
       "      <td>Husband</td>\n",
       "      <td>White</td>\n",
       "      <td>Male</td>\n",
       "      <td>0</td>\n",
       "      <td>0</td>\n",
       "      <td>40</td>\n",
       "      <td>United-States</td>\n",
       "      <td>&lt;=50K</td>\n",
       "    </tr>\n",
       "    <tr>\n",
       "      <th>25872</th>\n",
       "      <td>23</td>\n",
       "      <td>Private</td>\n",
       "      <td>240137</td>\n",
       "      <td>5th-6th</td>\n",
       "      <td>3</td>\n",
       "      <td>Never-married</td>\n",
       "      <td>Handlers-cleaners</td>\n",
       "      <td>Not-in-family</td>\n",
       "      <td>White</td>\n",
       "      <td>Male</td>\n",
       "      <td>0</td>\n",
       "      <td>0</td>\n",
       "      <td>55</td>\n",
       "      <td>Mexico</td>\n",
       "      <td>&lt;=50K</td>\n",
       "    </tr>\n",
       "    <tr>\n",
       "      <th>26313</th>\n",
       "      <td>28</td>\n",
       "      <td>Private</td>\n",
       "      <td>274679</td>\n",
       "      <td>Masters</td>\n",
       "      <td>14</td>\n",
       "      <td>Never-married</td>\n",
       "      <td>Prof-specialty</td>\n",
       "      <td>Not-in-family</td>\n",
       "      <td>White</td>\n",
       "      <td>Male</td>\n",
       "      <td>0</td>\n",
       "      <td>0</td>\n",
       "      <td>50</td>\n",
       "      <td>United-States</td>\n",
       "      <td>&lt;=50K</td>\n",
       "    </tr>\n",
       "    <tr>\n",
       "      <th>28230</th>\n",
       "      <td>27</td>\n",
       "      <td>Private</td>\n",
       "      <td>255582</td>\n",
       "      <td>HS-grad</td>\n",
       "      <td>9</td>\n",
       "      <td>Never-married</td>\n",
       "      <td>Machine-op-inspct</td>\n",
       "      <td>Not-in-family</td>\n",
       "      <td>White</td>\n",
       "      <td>Female</td>\n",
       "      <td>0</td>\n",
       "      <td>0</td>\n",
       "      <td>40</td>\n",
       "      <td>United-States</td>\n",
       "      <td>&lt;=50K</td>\n",
       "    </tr>\n",
       "    <tr>\n",
       "      <th>28522</th>\n",
       "      <td>42</td>\n",
       "      <td>Private</td>\n",
       "      <td>204235</td>\n",
       "      <td>Some-college</td>\n",
       "      <td>10</td>\n",
       "      <td>Married-civ-spouse</td>\n",
       "      <td>Prof-specialty</td>\n",
       "      <td>Husband</td>\n",
       "      <td>White</td>\n",
       "      <td>Male</td>\n",
       "      <td>0</td>\n",
       "      <td>0</td>\n",
       "      <td>40</td>\n",
       "      <td>United-States</td>\n",
       "      <td>&gt;50K</td>\n",
       "    </tr>\n",
       "    <tr>\n",
       "      <th>28846</th>\n",
       "      <td>39</td>\n",
       "      <td>Private</td>\n",
       "      <td>30916</td>\n",
       "      <td>HS-grad</td>\n",
       "      <td>9</td>\n",
       "      <td>Married-civ-spouse</td>\n",
       "      <td>Craft-repair</td>\n",
       "      <td>Husband</td>\n",
       "      <td>White</td>\n",
       "      <td>Male</td>\n",
       "      <td>0</td>\n",
       "      <td>0</td>\n",
       "      <td>40</td>\n",
       "      <td>United-States</td>\n",
       "      <td>&lt;=50K</td>\n",
       "    </tr>\n",
       "    <tr>\n",
       "      <th>29157</th>\n",
       "      <td>38</td>\n",
       "      <td>Private</td>\n",
       "      <td>207202</td>\n",
       "      <td>HS-grad</td>\n",
       "      <td>9</td>\n",
       "      <td>Married-civ-spouse</td>\n",
       "      <td>Machine-op-inspct</td>\n",
       "      <td>Husband</td>\n",
       "      <td>White</td>\n",
       "      <td>Male</td>\n",
       "      <td>0</td>\n",
       "      <td>0</td>\n",
       "      <td>48</td>\n",
       "      <td>United-States</td>\n",
       "      <td>&gt;50K</td>\n",
       "    </tr>\n",
       "    <tr>\n",
       "      <th>30845</th>\n",
       "      <td>46</td>\n",
       "      <td>Private</td>\n",
       "      <td>133616</td>\n",
       "      <td>Some-college</td>\n",
       "      <td>10</td>\n",
       "      <td>Divorced</td>\n",
       "      <td>Adm-clerical</td>\n",
       "      <td>Unmarried</td>\n",
       "      <td>White</td>\n",
       "      <td>Female</td>\n",
       "      <td>0</td>\n",
       "      <td>0</td>\n",
       "      <td>40</td>\n",
       "      <td>United-States</td>\n",
       "      <td>&lt;=50K</td>\n",
       "    </tr>\n",
       "    <tr>\n",
       "      <th>31993</th>\n",
       "      <td>19</td>\n",
       "      <td>Private</td>\n",
       "      <td>251579</td>\n",
       "      <td>Some-college</td>\n",
       "      <td>10</td>\n",
       "      <td>Never-married</td>\n",
       "      <td>Other-service</td>\n",
       "      <td>Own-child</td>\n",
       "      <td>White</td>\n",
       "      <td>Male</td>\n",
       "      <td>0</td>\n",
       "      <td>0</td>\n",
       "      <td>14</td>\n",
       "      <td>United-States</td>\n",
       "      <td>&lt;=50K</td>\n",
       "    </tr>\n",
       "    <tr>\n",
       "      <th>32404</th>\n",
       "      <td>35</td>\n",
       "      <td>Private</td>\n",
       "      <td>379959</td>\n",
       "      <td>HS-grad</td>\n",
       "      <td>9</td>\n",
       "      <td>Divorced</td>\n",
       "      <td>Other-service</td>\n",
       "      <td>Not-in-family</td>\n",
       "      <td>White</td>\n",
       "      <td>Female</td>\n",
       "      <td>0</td>\n",
       "      <td>0</td>\n",
       "      <td>40</td>\n",
       "      <td>United-States</td>\n",
       "      <td>&lt;=50K</td>\n",
       "    </tr>\n",
       "  </tbody>\n",
       "</table>\n",
       "</div>"
      ],
      "text/plain": [
       "       Age   Profession Class  Final_census      Education  Education_num  \\\n",
       "4881    25            Private        308144      Bachelors             13   \n",
       "5104    90            Private         52386   Some-college             10   \n",
       "9171    21            Private        250051   Some-college             10   \n",
       "11631   20            Private        107658   Some-college             10   \n",
       "13084   25            Private        195994        1st-4th              2   \n",
       "15059   21            Private        243368      Preschool              1   \n",
       "17040   46            Private        173243        HS-grad              9   \n",
       "18555   30            Private        144593        HS-grad              9   \n",
       "18698   19            Private         97261        HS-grad              9   \n",
       "21318   19            Private        138153   Some-college             10   \n",
       "21490   19            Private        146679   Some-college             10   \n",
       "21875   49            Private         31267        7th-8th              4   \n",
       "22300   25            Private        195994        1st-4th              2   \n",
       "22367   44            Private        367749      Bachelors             13   \n",
       "22494   49   Self-emp-not-inc         43479   Some-college             10   \n",
       "25872   23            Private        240137        5th-6th              3   \n",
       "26313   28            Private        274679        Masters             14   \n",
       "28230   27            Private        255582        HS-grad              9   \n",
       "28522   42            Private        204235   Some-college             10   \n",
       "28846   39            Private         30916        HS-grad              9   \n",
       "29157   38            Private        207202        HS-grad              9   \n",
       "30845   46            Private        133616   Some-college             10   \n",
       "31993   19            Private        251579   Some-college             10   \n",
       "32404   35            Private        379959        HS-grad              9   \n",
       "\n",
       "            Marital_status          Occupation    Relationship  \\\n",
       "4881         Never-married        Craft-repair   Not-in-family   \n",
       "5104         Never-married       Other-service   Not-in-family   \n",
       "9171         Never-married      Prof-specialty       Own-child   \n",
       "11631        Never-married        Tech-support   Not-in-family   \n",
       "13084        Never-married     Priv-house-serv   Not-in-family   \n",
       "15059        Never-married     Farming-fishing   Not-in-family   \n",
       "17040   Married-civ-spouse        Craft-repair         Husband   \n",
       "18555        Never-married       Other-service   Not-in-family   \n",
       "18698        Never-married     Farming-fishing   Not-in-family   \n",
       "21318        Never-married        Adm-clerical       Own-child   \n",
       "21490        Never-married     Exec-managerial       Own-child   \n",
       "21875   Married-civ-spouse        Craft-repair         Husband   \n",
       "22300        Never-married     Priv-house-serv   Not-in-family   \n",
       "22367        Never-married      Prof-specialty   Not-in-family   \n",
       "22494   Married-civ-spouse        Craft-repair         Husband   \n",
       "25872        Never-married   Handlers-cleaners   Not-in-family   \n",
       "26313        Never-married      Prof-specialty   Not-in-family   \n",
       "28230        Never-married   Machine-op-inspct   Not-in-family   \n",
       "28522   Married-civ-spouse      Prof-specialty         Husband   \n",
       "28846   Married-civ-spouse        Craft-repair         Husband   \n",
       "29157   Married-civ-spouse   Machine-op-inspct         Husband   \n",
       "30845             Divorced        Adm-clerical       Unmarried   \n",
       "31993        Never-married       Other-service       Own-child   \n",
       "32404             Divorced       Other-service   Not-in-family   \n",
       "\n",
       "                      Race   Gender  Capital_gain  Capital_loss  \\\n",
       "4881                 White     Male             0             0   \n",
       "5104    Asian-Pac-Islander     Male             0             0   \n",
       "9171                 White   Female             0             0   \n",
       "11631                White   Female             0             0   \n",
       "13084                White   Female             0             0   \n",
       "15059                White     Male             0             0   \n",
       "17040                White     Male             0             0   \n",
       "18555                Black     Male             0             0   \n",
       "18698                White     Male             0             0   \n",
       "21318                White   Female             0             0   \n",
       "21490                Black     Male             0             0   \n",
       "21875                White     Male             0             0   \n",
       "22300                White   Female             0             0   \n",
       "22367                White   Female             0             0   \n",
       "22494                White     Male             0             0   \n",
       "25872                White     Male             0             0   \n",
       "26313                White     Male             0             0   \n",
       "28230                White   Female             0             0   \n",
       "28522                White     Male             0             0   \n",
       "28846                White     Male             0             0   \n",
       "29157                White     Male             0             0   \n",
       "30845                White   Female             0             0   \n",
       "31993                White     Male             0             0   \n",
       "32404                White   Female             0             0   \n",
       "\n",
       "       Hours_per_week         Country  Income  \n",
       "4881               40          Mexico   <=50K  \n",
       "5104               35   United-States   <=50K  \n",
       "9171               10   United-States   <=50K  \n",
       "11631              10   United-States   <=50K  \n",
       "13084              40       Guatemala   <=50K  \n",
       "15059              50          Mexico   <=50K  \n",
       "17040              40   United-States   <=50K  \n",
       "18555              40               ?   <=50K  \n",
       "18698              40   United-States   <=50K  \n",
       "21318              10   United-States   <=50K  \n",
       "21490              30   United-States   <=50K  \n",
       "21875              40   United-States   <=50K  \n",
       "22300              40       Guatemala   <=50K  \n",
       "22367              45          Mexico   <=50K  \n",
       "22494              40   United-States   <=50K  \n",
       "25872              55          Mexico   <=50K  \n",
       "26313              50   United-States   <=50K  \n",
       "28230              40   United-States   <=50K  \n",
       "28522              40   United-States    >50K  \n",
       "28846              40   United-States   <=50K  \n",
       "29157              48   United-States    >50K  \n",
       "30845              40   United-States   <=50K  \n",
       "31993              14   United-States   <=50K  \n",
       "32404              40   United-States   <=50K  "
      ]
     },
     "execution_count": 11,
     "metadata": {},
     "output_type": "execute_result"
    }
   ],
   "source": [
    "datafile[datafile.duplicated()]"
   ]
  },
  {
   "cell_type": "code",
   "execution_count": 12,
   "id": "37c5e5b8",
   "metadata": {},
   "outputs": [
    {
     "data": {
      "text/html": [
       "<div>\n",
       "<style scoped>\n",
       "    .dataframe tbody tr th:only-of-type {\n",
       "        vertical-align: middle;\n",
       "    }\n",
       "\n",
       "    .dataframe tbody tr th {\n",
       "        vertical-align: top;\n",
       "    }\n",
       "\n",
       "    .dataframe thead th {\n",
       "        text-align: right;\n",
       "    }\n",
       "</style>\n",
       "<table border=\"1\" class=\"dataframe\">\n",
       "  <thead>\n",
       "    <tr style=\"text-align: right;\">\n",
       "      <th></th>\n",
       "      <th>Age</th>\n",
       "      <th>Profession Class</th>\n",
       "      <th>Final_census</th>\n",
       "      <th>Education</th>\n",
       "      <th>Education_num</th>\n",
       "      <th>Marital_status</th>\n",
       "      <th>Occupation</th>\n",
       "      <th>Relationship</th>\n",
       "      <th>Race</th>\n",
       "      <th>Gender</th>\n",
       "      <th>Capital_gain</th>\n",
       "      <th>Capital_loss</th>\n",
       "      <th>Hours_per_week</th>\n",
       "      <th>Country</th>\n",
       "      <th>Income</th>\n",
       "    </tr>\n",
       "  </thead>\n",
       "  <tbody>\n",
       "    <tr>\n",
       "      <th>16846</th>\n",
       "      <td>35</td>\n",
       "      <td>Private</td>\n",
       "      <td>379959</td>\n",
       "      <td>HS-grad</td>\n",
       "      <td>9</td>\n",
       "      <td>Divorced</td>\n",
       "      <td>Other-service</td>\n",
       "      <td>Not-in-family</td>\n",
       "      <td>White</td>\n",
       "      <td>Female</td>\n",
       "      <td>0</td>\n",
       "      <td>0</td>\n",
       "      <td>40</td>\n",
       "      <td>United-States</td>\n",
       "      <td>&lt;=50K</td>\n",
       "    </tr>\n",
       "    <tr>\n",
       "      <th>32404</th>\n",
       "      <td>35</td>\n",
       "      <td>Private</td>\n",
       "      <td>379959</td>\n",
       "      <td>HS-grad</td>\n",
       "      <td>9</td>\n",
       "      <td>Divorced</td>\n",
       "      <td>Other-service</td>\n",
       "      <td>Not-in-family</td>\n",
       "      <td>White</td>\n",
       "      <td>Female</td>\n",
       "      <td>0</td>\n",
       "      <td>0</td>\n",
       "      <td>40</td>\n",
       "      <td>United-States</td>\n",
       "      <td>&lt;=50K</td>\n",
       "    </tr>\n",
       "  </tbody>\n",
       "</table>\n",
       "</div>"
      ],
      "text/plain": [
       "       Age Profession Class  Final_census Education  Education_num  \\\n",
       "16846   35          Private        379959   HS-grad              9   \n",
       "32404   35          Private        379959   HS-grad              9   \n",
       "\n",
       "      Marital_status      Occupation    Relationship    Race   Gender  \\\n",
       "16846       Divorced   Other-service   Not-in-family   White   Female   \n",
       "32404       Divorced   Other-service   Not-in-family   White   Female   \n",
       "\n",
       "       Capital_gain  Capital_loss  Hours_per_week         Country  Income  \n",
       "16846             0             0              40   United-States   <=50K  \n",
       "32404             0             0              40   United-States   <=50K  "
      ]
     },
     "execution_count": 12,
     "metadata": {},
     "output_type": "execute_result"
    }
   ],
   "source": [
    "datafile[datafile['Final_census']==379959]"
   ]
  },
  {
   "cell_type": "code",
   "execution_count": 13,
   "id": "dbbb93b8",
   "metadata": {},
   "outputs": [],
   "source": [
    "duplicated_index=datafile[datafile.duplicated()].index"
   ]
  },
  {
   "cell_type": "code",
   "execution_count": 14,
   "id": "a40cd6b9",
   "metadata": {},
   "outputs": [
    {
     "data": {
      "text/plain": [
       "(24,)"
      ]
     },
     "execution_count": 14,
     "metadata": {},
     "output_type": "execute_result"
    }
   ],
   "source": [
    "duplicated_index.shape"
   ]
  },
  {
   "cell_type": "code",
   "execution_count": 15,
   "id": "66844cdb",
   "metadata": {},
   "outputs": [
    {
     "data": {
      "text/plain": [
       "Int64Index([ 4881,  5104,  9171, 11631, 13084, 15059, 17040, 18555, 18698,\n",
       "            21318, 21490, 21875, 22300, 22367, 22494, 25872, 26313, 28230,\n",
       "            28522, 28846, 29157, 30845, 31993, 32404],\n",
       "           dtype='int64')"
      ]
     },
     "execution_count": 15,
     "metadata": {},
     "output_type": "execute_result"
    }
   ],
   "source": [
    "duplicated_index"
   ]
  },
  {
   "cell_type": "markdown",
   "id": "5acf872a",
   "metadata": {},
   "source": [
    "# Dropping duplicate values -"
   ]
  },
  {
   "cell_type": "code",
   "execution_count": 16,
   "id": "03a4e395",
   "metadata": {},
   "outputs": [],
   "source": [
    "datafile.drop(duplicated_index,axis=0,inplace=True)"
   ]
  },
  {
   "cell_type": "code",
   "execution_count": 17,
   "id": "0d54f88a",
   "metadata": {},
   "outputs": [
    {
     "data": {
      "text/plain": [
       "(32537, 15)"
      ]
     },
     "execution_count": 17,
     "metadata": {},
     "output_type": "execute_result"
    }
   ],
   "source": [
    "datafile.shape"
   ]
  },
  {
   "cell_type": "code",
   "execution_count": 18,
   "id": "181d2e40",
   "metadata": {},
   "outputs": [
    {
     "data": {
      "text/plain": [
       "0"
      ]
     },
     "execution_count": 18,
     "metadata": {},
     "output_type": "execute_result"
    }
   ],
   "source": [
    "datafile.duplicated().sum()"
   ]
  },
  {
   "cell_type": "markdown",
   "id": "641aaa7b",
   "metadata": {},
   "source": [
    "#  we have some rows where we have ' ?' for null or unknown values, so we will replace it with nan values."
   ]
  },
  {
   "cell_type": "code",
   "execution_count": 19,
   "id": "fc5813e5",
   "metadata": {},
   "outputs": [],
   "source": [
    "\n",
    "datafile.replace(' ?',np.NaN,inplace=True)"
   ]
  },
  {
   "cell_type": "code",
   "execution_count": 20,
   "id": "b85b3229",
   "metadata": {},
   "outputs": [
    {
     "data": {
      "text/plain": [
       "Age                    0\n",
       "Profession Class    1836\n",
       "Final_census           0\n",
       "Education              0\n",
       "Education_num          0\n",
       "Marital_status         0\n",
       "Occupation          1843\n",
       "Relationship           0\n",
       "Race                   0\n",
       "Gender                 0\n",
       "Capital_gain           0\n",
       "Capital_loss           0\n",
       "Hours_per_week         0\n",
       "Country              582\n",
       "Income                 0\n",
       "dtype: int64"
      ]
     },
     "execution_count": 20,
     "metadata": {},
     "output_type": "execute_result"
    }
   ],
   "source": [
    "datafile.isnull().sum()"
   ]
  },
  {
   "cell_type": "code",
   "execution_count": 21,
   "id": "8a1f6421",
   "metadata": {},
   "outputs": [
    {
     "data": {
      "text/plain": [
       " Private             0.738510\n",
       " Self-emp-not-inc    0.082733\n",
       " Local-gov           0.068174\n",
       " State-gov           0.042279\n",
       " Self-emp-inc        0.036351\n",
       " Federal-gov         0.031269\n",
       " Without-pay         0.000456\n",
       " Never-worked        0.000228\n",
       "Name: Profession Class, dtype: float64"
      ]
     },
     "execution_count": 21,
     "metadata": {},
     "output_type": "execute_result"
    }
   ],
   "source": [
    "datafile['Profession Class'].value_counts(normalize=True)"
   ]
  },
  {
   "cell_type": "code",
   "execution_count": 22,
   "id": "1b65f701",
   "metadata": {},
   "outputs": [
    {
     "data": {
      "text/plain": [
       " Prof-specialty       0.134749\n",
       " Craft-repair         0.133381\n",
       " Exec-managerial      0.132436\n",
       " Adm-clerical         0.122760\n",
       " Sales                0.118916\n",
       " Other-service        0.107220\n",
       " Machine-op-inspct    0.065159\n",
       " Transport-moving     0.052030\n",
       " Handlers-cleaners    0.044602\n",
       " Farming-fishing      0.032319\n",
       " Tech-support         0.030201\n",
       " Protective-serv      0.021144\n",
       " Priv-house-serv      0.004789\n",
       " Armed-Forces         0.000293\n",
       "Name: Occupation, dtype: float64"
      ]
     },
     "execution_count": 22,
     "metadata": {},
     "output_type": "execute_result"
    }
   ],
   "source": [
    "datafile['Occupation'].value_counts(normalize=True)"
   ]
  },
  {
   "cell_type": "code",
   "execution_count": 23,
   "id": "716b14bc",
   "metadata": {},
   "outputs": [],
   "source": [
    "# Since we cannot impute on our own - mode-'Prof-specialty' in occupation. so we will assign 'Other-service' to nan values\n",
    "datafile['Occupation']=datafile['Occupation'].str.strip()\n",
    "datafile['Occupation'].replace(np.nan,'Other-service',inplace=True)"
   ]
  },
  {
   "cell_type": "code",
   "execution_count": 24,
   "id": "c88459a8",
   "metadata": {},
   "outputs": [],
   "source": [
    "# For professional class we cannot go with mode 'private' so assign others to nan values\n",
    "datafile['Profession Class']=datafile['Profession Class'].str.strip()\n",
    "datafile['Profession Class'].replace(np.nan,'Private',inplace=True)"
   ]
  },
  {
   "cell_type": "code",
   "execution_count": 25,
   "id": "d2cd87d2",
   "metadata": {},
   "outputs": [
    {
     "data": {
      "text/plain": [
       " United-States                 0.912314\n",
       " Mexico                        0.019997\n",
       " Philippines                   0.006196\n",
       " Germany                       0.004287\n",
       " Canada                        0.003787\n",
       " Puerto-Rico                   0.003568\n",
       " El-Salvador                   0.003317\n",
       " India                         0.003129\n",
       " Cuba                          0.002973\n",
       " England                       0.002816\n",
       " Jamaica                       0.002535\n",
       " South                         0.002504\n",
       " China                         0.002347\n",
       " Italy                         0.002284\n",
       " Dominican-Republic            0.002191\n",
       " Vietnam                       0.002097\n",
       " Japan                         0.001940\n",
       " Guatemala                     0.001940\n",
       " Poland                        0.001878\n",
       " Columbia                      0.001846\n",
       " Taiwan                        0.001596\n",
       " Haiti                         0.001377\n",
       " Iran                          0.001346\n",
       " Portugal                      0.001158\n",
       " Nicaragua                     0.001064\n",
       " Peru                          0.000970\n",
       " France                        0.000908\n",
       " Greece                        0.000908\n",
       " Ecuador                       0.000876\n",
       " Ireland                       0.000751\n",
       " Hong                          0.000626\n",
       " Cambodia                      0.000595\n",
       " Trinadad&Tobago               0.000595\n",
       " Laos                          0.000563\n",
       " Thailand                      0.000563\n",
       " Yugoslavia                    0.000501\n",
       " Outlying-US(Guam-USVI-etc)    0.000438\n",
       " Honduras                      0.000407\n",
       " Hungary                       0.000407\n",
       " Scotland                      0.000376\n",
       " Holand-Netherlands            0.000031\n",
       "Name: Country, dtype: float64"
      ]
     },
     "execution_count": 25,
     "metadata": {},
     "output_type": "execute_result"
    }
   ],
   "source": [
    "datafile['Country'].value_counts(normalize=True)"
   ]
  },
  {
   "cell_type": "markdown",
   "id": "1b556002",
   "metadata": {},
   "source": [
    "# Since almost 90% population is of US here we have grouped the non-US and null values in 'Other' country.\n"
   ]
  },
  {
   "cell_type": "code",
   "execution_count": 26,
   "id": "8aee28a6",
   "metadata": {},
   "outputs": [],
   "source": [
    "datafile['Country']=datafile['Country'].str.strip()\n",
    "datafile['Country'].mask(datafile['Country']!='United-States','Other',inplace=True)"
   ]
  },
  {
   "cell_type": "code",
   "execution_count": 27,
   "id": "844366d2",
   "metadata": {},
   "outputs": [
    {
     "data": {
      "text/plain": [
       "United-States    29153\n",
       "Other             3384\n",
       "Name: Country, dtype: int64"
      ]
     },
     "execution_count": 27,
     "metadata": {},
     "output_type": "execute_result"
    }
   ],
   "source": [
    "datafile['Country'].value_counts()"
   ]
  },
  {
   "cell_type": "code",
   "execution_count": 28,
   "id": "8d826598",
   "metadata": {},
   "outputs": [
    {
     "data": {
      "text/plain": [
       "Age                 0\n",
       "Profession Class    0\n",
       "Final_census        0\n",
       "Education           0\n",
       "Education_num       0\n",
       "Marital_status      0\n",
       "Occupation          0\n",
       "Relationship        0\n",
       "Race                0\n",
       "Gender              0\n",
       "Capital_gain        0\n",
       "Capital_loss        0\n",
       "Hours_per_week      0\n",
       "Country             0\n",
       "Income              0\n",
       "dtype: int64"
      ]
     },
     "execution_count": 28,
     "metadata": {},
     "output_type": "execute_result"
    }
   ],
   "source": [
    "datafile.isnull().sum()"
   ]
  },
  {
   "cell_type": "markdown",
   "id": "e0437a65",
   "metadata": {},
   "source": [
    "# In Education columns we could see from nursery to 12th, it can be grouped as High school"
   ]
  },
  {
   "cell_type": "code",
   "execution_count": 29,
   "id": "c6591ba2",
   "metadata": {},
   "outputs": [
    {
     "data": {
      "text/plain": [
       " HS-grad         0.322525\n",
       " Some-college    0.223807\n",
       " Bachelors       0.164520\n",
       " Masters         0.052924\n",
       " Assoc-voc       0.042475\n",
       " 11th            0.036113\n",
       " Assoc-acdm      0.032793\n",
       " 10th            0.028675\n",
       " 7th-8th         0.019824\n",
       " Prof-school     0.017703\n",
       " 9th             0.015797\n",
       " 12th            0.013308\n",
       " Doctorate       0.012693\n",
       " 5th-6th         0.010204\n",
       " 1st-4th         0.005102\n",
       " Preschool       0.001537\n",
       "Name: Education, dtype: float64"
      ]
     },
     "execution_count": 29,
     "metadata": {},
     "output_type": "execute_result"
    }
   ],
   "source": [
    "datafile['Education'].value_counts(normalize=True)"
   ]
  },
  {
   "cell_type": "code",
   "execution_count": 30,
   "id": "67ad2be8",
   "metadata": {},
   "outputs": [],
   "source": [
    "datafile['Education']=datafile['Education'].str.strip()\n",
    "datafile['Education'].replace(['Preschool','1st-4th','5th-6th','7th-8th','9th','10th','11th','12th'],'High School',inplace=True)"
   ]
  },
  {
   "cell_type": "code",
   "execution_count": 31,
   "id": "16e95e2a",
   "metadata": {},
   "outputs": [
    {
     "data": {
      "text/plain": [
       "HS-grad         0.322525\n",
       "Some-college    0.223807\n",
       "Bachelors       0.164520\n",
       "High School     0.130559\n",
       "Masters         0.052924\n",
       "Assoc-voc       0.042475\n",
       "Assoc-acdm      0.032793\n",
       "Prof-school     0.017703\n",
       "Doctorate       0.012693\n",
       "Name: Education, dtype: float64"
      ]
     },
     "execution_count": 31,
     "metadata": {},
     "output_type": "execute_result"
    }
   ],
   "source": [
    "datafile['Education'].value_counts(normalize=True)"
   ]
  },
  {
   "cell_type": "code",
   "execution_count": 32,
   "id": "2c76a957",
   "metadata": {},
   "outputs": [
    {
     "data": {
      "text/html": [
       "<div>\n",
       "<style scoped>\n",
       "    .dataframe tbody tr th:only-of-type {\n",
       "        vertical-align: middle;\n",
       "    }\n",
       "\n",
       "    .dataframe tbody tr th {\n",
       "        vertical-align: top;\n",
       "    }\n",
       "\n",
       "    .dataframe thead th {\n",
       "        text-align: right;\n",
       "    }\n",
       "</style>\n",
       "<table border=\"1\" class=\"dataframe\">\n",
       "  <thead>\n",
       "    <tr style=\"text-align: right;\">\n",
       "      <th></th>\n",
       "      <th>Age</th>\n",
       "      <th>Profession Class</th>\n",
       "      <th>Final_census</th>\n",
       "      <th>Education</th>\n",
       "      <th>Education_num</th>\n",
       "      <th>Marital_status</th>\n",
       "      <th>Occupation</th>\n",
       "      <th>Relationship</th>\n",
       "      <th>Race</th>\n",
       "      <th>Gender</th>\n",
       "      <th>Capital_gain</th>\n",
       "      <th>Capital_loss</th>\n",
       "      <th>Hours_per_week</th>\n",
       "      <th>Country</th>\n",
       "      <th>Income</th>\n",
       "    </tr>\n",
       "  </thead>\n",
       "  <tbody>\n",
       "    <tr>\n",
       "      <th>0</th>\n",
       "      <td>39</td>\n",
       "      <td>State-gov</td>\n",
       "      <td>77516</td>\n",
       "      <td>Bachelors</td>\n",
       "      <td>13</td>\n",
       "      <td>Never-married</td>\n",
       "      <td>Adm-clerical</td>\n",
       "      <td>Not-in-family</td>\n",
       "      <td>White</td>\n",
       "      <td>Male</td>\n",
       "      <td>2174</td>\n",
       "      <td>0</td>\n",
       "      <td>40</td>\n",
       "      <td>United-States</td>\n",
       "      <td>&lt;=50K</td>\n",
       "    </tr>\n",
       "    <tr>\n",
       "      <th>1</th>\n",
       "      <td>50</td>\n",
       "      <td>Self-emp-not-inc</td>\n",
       "      <td>83311</td>\n",
       "      <td>Bachelors</td>\n",
       "      <td>13</td>\n",
       "      <td>Married-civ-spouse</td>\n",
       "      <td>Exec-managerial</td>\n",
       "      <td>Husband</td>\n",
       "      <td>White</td>\n",
       "      <td>Male</td>\n",
       "      <td>0</td>\n",
       "      <td>0</td>\n",
       "      <td>13</td>\n",
       "      <td>United-States</td>\n",
       "      <td>&lt;=50K</td>\n",
       "    </tr>\n",
       "    <tr>\n",
       "      <th>2</th>\n",
       "      <td>38</td>\n",
       "      <td>Private</td>\n",
       "      <td>215646</td>\n",
       "      <td>HS-grad</td>\n",
       "      <td>9</td>\n",
       "      <td>Divorced</td>\n",
       "      <td>Handlers-cleaners</td>\n",
       "      <td>Not-in-family</td>\n",
       "      <td>White</td>\n",
       "      <td>Male</td>\n",
       "      <td>0</td>\n",
       "      <td>0</td>\n",
       "      <td>40</td>\n",
       "      <td>United-States</td>\n",
       "      <td>&lt;=50K</td>\n",
       "    </tr>\n",
       "    <tr>\n",
       "      <th>3</th>\n",
       "      <td>53</td>\n",
       "      <td>Private</td>\n",
       "      <td>234721</td>\n",
       "      <td>High School</td>\n",
       "      <td>7</td>\n",
       "      <td>Married-civ-spouse</td>\n",
       "      <td>Handlers-cleaners</td>\n",
       "      <td>Husband</td>\n",
       "      <td>Black</td>\n",
       "      <td>Male</td>\n",
       "      <td>0</td>\n",
       "      <td>0</td>\n",
       "      <td>40</td>\n",
       "      <td>United-States</td>\n",
       "      <td>&lt;=50K</td>\n",
       "    </tr>\n",
       "    <tr>\n",
       "      <th>4</th>\n",
       "      <td>28</td>\n",
       "      <td>Private</td>\n",
       "      <td>338409</td>\n",
       "      <td>Bachelors</td>\n",
       "      <td>13</td>\n",
       "      <td>Married-civ-spouse</td>\n",
       "      <td>Prof-specialty</td>\n",
       "      <td>Wife</td>\n",
       "      <td>Black</td>\n",
       "      <td>Female</td>\n",
       "      <td>0</td>\n",
       "      <td>0</td>\n",
       "      <td>40</td>\n",
       "      <td>Other</td>\n",
       "      <td>&lt;=50K</td>\n",
       "    </tr>\n",
       "  </tbody>\n",
       "</table>\n",
       "</div>"
      ],
      "text/plain": [
       "   Age  Profession Class  Final_census    Education  Education_num  \\\n",
       "0   39         State-gov         77516    Bachelors             13   \n",
       "1   50  Self-emp-not-inc         83311    Bachelors             13   \n",
       "2   38           Private        215646      HS-grad              9   \n",
       "3   53           Private        234721  High School              7   \n",
       "4   28           Private        338409    Bachelors             13   \n",
       "\n",
       "        Marital_status         Occupation    Relationship    Race   Gender  \\\n",
       "0        Never-married       Adm-clerical   Not-in-family   White     Male   \n",
       "1   Married-civ-spouse    Exec-managerial         Husband   White     Male   \n",
       "2             Divorced  Handlers-cleaners   Not-in-family   White     Male   \n",
       "3   Married-civ-spouse  Handlers-cleaners         Husband   Black     Male   \n",
       "4   Married-civ-spouse     Prof-specialty            Wife   Black   Female   \n",
       "\n",
       "   Capital_gain  Capital_loss  Hours_per_week        Country  Income  \n",
       "0          2174             0              40  United-States   <=50K  \n",
       "1             0             0              13  United-States   <=50K  \n",
       "2             0             0              40  United-States   <=50K  \n",
       "3             0             0              40  United-States   <=50K  \n",
       "4             0             0              40          Other   <=50K  "
      ]
     },
     "execution_count": 32,
     "metadata": {},
     "output_type": "execute_result"
    }
   ],
   "source": [
    "datafile.head()"
   ]
  },
  {
   "cell_type": "markdown",
   "id": "538a1756",
   "metadata": {},
   "source": [
    "# EDA"
   ]
  },
  {
   "cell_type": "markdown",
   "id": "a984adf6",
   "metadata": {},
   "source": [
    "# Now data is cleaned for analysing"
   ]
  },
  {
   "cell_type": "markdown",
   "id": "70213851",
   "metadata": {},
   "source": [
    "# 1. Age distribution Analysis"
   ]
  },
  {
   "cell_type": "code",
   "execution_count": 33,
   "id": "b02b4bf4",
   "metadata": {},
   "outputs": [
    {
     "data": {
      "image/png": "[encoded data removed]",
      "text/plain": [
       "<Figure size 1000x500 with 2 Axes>"
      ]
     },
     "metadata": {},
     "output_type": "display_data"
    }
   ],
   "source": [
    "sns.displot(data=datafile,x='Age',col='Income')\n",
    "plt.show()"
   ]
  },
  {
   "cell_type": "markdown",
   "id": "73f390df",
   "metadata": {},
   "source": [
    "# Observations-\n",
    "\n",
    "1. The age is rightly skewed / positively skewed for the people having income <=50K.\n",
    "2. For people having income>50K, the age is normly distributed.\n",
    "3. Young employees are low paid and middle/old employees are high paid.\n",
    "4. Very less number of aged employees are there.\n",
    "5. Half of employees over 50 years of age are still under 50K.\n"
   ]
  },
  {
   "cell_type": "markdown",
   "id": "66189d0e",
   "metadata": {},
   "source": [
    "# 2. Final census"
   ]
  },
  {
   "cell_type": "markdown",
   "id": "09d0496c",
   "metadata": {},
   "source": [
    "ecdf- Empirical Commutative Distribution plot - represents the proportion or count of observations falling below each unique value in a dataset. It help us to visualize each and every data point on a plot.It also aids direct comparisons between multiple distributions. "
   ]
  },
  {
   "cell_type": "code",
   "execution_count": 34,
   "id": "7cf9b7cf",
   "metadata": {},
   "outputs": [
    {
     "data": {
      "image/png": "[encoded data removed]",
      "text/plain": [
       "<Figure size 1000x500 with 2 Axes>"
      ]
     },
     "metadata": {},
     "output_type": "display_data"
    }
   ],
   "source": [
    "sns.displot(data=datafile,y='Final_census',col='Income',kind='ecdf',marker = '.', linestyle = 'none')\n",
    "plt.show()"
   ]
  },
  {
   "cell_type": "markdown",
   "id": "65032561",
   "metadata": {},
   "source": [
    "# Observation-\n",
    "1. Here we could see both the low and high income group have same distribution, so we will be dropping it while modelling."
   ]
  },
  {
   "cell_type": "markdown",
   "id": "25e95cb7",
   "metadata": {},
   "source": [
    "# 3. Education num"
   ]
  },
  {
   "cell_type": "code",
   "execution_count": 35,
   "id": "78c7a535",
   "metadata": {},
   "outputs": [
    {
     "data": {
      "text/plain": [
       "<seaborn.axisgrid.FacetGrid at 0x2bfba50ab00>"
      ]
     },
     "execution_count": 35,
     "metadata": {},
     "output_type": "execute_result"
    },
    {
     "data": {
      "image/png": "[encoded data removed]",
      "text/plain": [
       "<Figure size 1000x500 with 2 Axes>"
      ]
     },
     "metadata": {},
     "output_type": "display_data"
    }
   ],
   "source": [
    "sns.catplot(data=datafile,x='Education_num',y='Final_census',col='Income',estimator='sum')"
   ]
  },
  {
   "cell_type": "markdown",
   "id": "3a8c7815",
   "metadata": {},
   "source": [
    "# Observations-\n",
    "1. The number of years of education for people having <=50k income is mostly - 9,10,13 years.\n",
    "2. People having >50K income are mostly above 9 years of education num.\n",
    "   We can say high education num contributes to high income.\n",
    "3. Mostly people are having 9,10 and 13 years of education years."
   ]
  },
  {
   "cell_type": "markdown",
   "id": "6646d85f",
   "metadata": {},
   "source": [
    "# 4. Capital Gain"
   ]
  },
  {
   "cell_type": "code",
   "execution_count": 36,
   "id": "b38bf1ad",
   "metadata": {},
   "outputs": [
    {
     "data": {
      "text/plain": [
       "<seaborn.axisgrid.FacetGrid at 0x2bfbd45ba90>"
      ]
     },
     "execution_count": 36,
     "metadata": {},
     "output_type": "execute_result"
    },
    {
     "data": {
      "image/png": "[encoded data removed]",
      "text/plain": [
       "<Figure size 1000x500 with 2 Axes>"
      ]
     },
     "metadata": {},
     "output_type": "display_data"
    }
   ],
   "source": [
    "sns.displot(data=datafile,x='Capital_gain',col='Income')"
   ]
  },
  {
   "cell_type": "markdown",
   "id": "51acb45b",
   "metadata": {},
   "source": [
    "# Observations-\n",
    "1. Mostly people having income >50K are having capital gains. Due to high income they must have invested and then earned gains.\n",
    "2. About 91% percent employees are having no capital gains.\n",
    "3. This shows empoyees have either low interest in investing in assets (or taking risk) or have low purchasing power for assets."
   ]
  },
  {
   "cell_type": "markdown",
   "id": "b7636342",
   "metadata": {},
   "source": [
    "# 5. Capital Loss"
   ]
  },
  {
   "cell_type": "code",
   "execution_count": 37,
   "id": "3201a95f",
   "metadata": {},
   "outputs": [
    {
     "data": {
      "text/plain": [
       "<seaborn.axisgrid.FacetGrid at 0x2bfba822830>"
      ]
     },
     "execution_count": 37,
     "metadata": {},
     "output_type": "execute_result"
    },
    {
     "data": {
      "image/png": "[encoded data removed]",
      "text/plain": [
       "<Figure size 1000x500 with 2 Axes>"
      ]
     },
     "metadata": {},
     "output_type": "display_data"
    }
   ],
   "source": [
    "sns.displot(data=datafile,x='Capital_loss',col='Income')"
   ]
  },
  {
   "cell_type": "markdown",
   "id": "b140b1ea",
   "metadata": {},
   "source": [
    "# Observations-\n",
    "1. About 95% of employees are having no capital losses.\n",
    "2. This confirms the above assumptions that either low interest in investing in assets (or taking risk) or have low purchasing power for assets."
   ]
  },
  {
   "cell_type": "markdown",
   "id": "7f906ea8",
   "metadata": {},
   "source": [
    "# 6. Hours per week"
   ]
  },
  {
   "cell_type": "code",
   "execution_count": 38,
   "id": "6d149032",
   "metadata": {},
   "outputs": [
    {
     "data": {
      "text/plain": [
       "<seaborn.axisgrid.FacetGrid at 0x2bfb964caf0>"
      ]
     },
     "execution_count": 38,
     "metadata": {},
     "output_type": "execute_result"
    },
    {
     "data": {
      "image/png": "[encoded data removed]",
      "text/plain": [
       "<Figure size 1000x500 with 2 Axes>"
      ]
     },
     "metadata": {},
     "output_type": "display_data"
    }
   ],
   "source": [
    "sns.displot(data=datafile,x='Hours_per_week',col='Income',multiple=\"stack\", kind=\"kde\")"
   ]
  },
  {
   "cell_type": "markdown",
   "id": "4559f194",
   "metadata": {},
   "source": [
    "# Observations-\n",
    "1. Very high number of people spend around 40 hrs per week specially for people <=50K income.\n",
    "2. May be employees are not paid for overtime so they are not interested for working for overtime."
   ]
  },
  {
   "cell_type": "markdown",
   "id": "e17282fe",
   "metadata": {},
   "source": [
    "# 7. Profession class"
   ]
  },
  {
   "cell_type": "code",
   "execution_count": 39,
   "id": "0bd8e9f5",
   "metadata": {},
   "outputs": [
    {
     "data": {
      "image/png": "[encoded data removed]",
      "text/plain": [
       "<Figure size 1000x500 with 2 Axes>"
      ]
     },
     "metadata": {},
     "output_type": "display_data"
    }
   ],
   "source": [
    "sns.catplot(data=datafile,y='Profession Class',x='Final_census',col='Income',kind='bar',estimator='sum')\n",
    "plt.show()"
   ]
  },
  {
   "cell_type": "markdown",
   "id": "42e07584",
   "metadata": {},
   "source": [
    "# Oservations-\n",
    "1. Employees are mostly working in private jobs.\n",
    "2. This shows large portion of privatisation of US economy.\n"
   ]
  },
  {
   "cell_type": "markdown",
   "id": "a0f16071",
   "metadata": {},
   "source": [
    "# 8. Education"
   ]
  },
  {
   "cell_type": "code",
   "execution_count": 40,
   "id": "5315a93d",
   "metadata": {},
   "outputs": [
    {
     "data": {
      "image/png": "[encoded data removed]",
      "text/plain": [
       "<Figure size 1000x500 with 2 Axes>"
      ]
     },
     "metadata": {},
     "output_type": "display_data"
    }
   ],
   "source": [
    "sns.catplot(data=datafile,y='Education',col='Income',x='Final_census',kind='bar',estimator='sum')\n",
    "plt.show()"
   ]
  },
  {
   "cell_type": "markdown",
   "id": "bcbbb1eb",
   "metadata": {},
   "source": [
    "# Observations-\n",
    "1. Bachelors,HS-grad,Some-College are earning moslty for both income groups.\n",
    "2. Very less employees are having High education.\n",
    "3. Even highly educated - Doctorate,Masters,etc are having low income than 50K may be due to less experience.\n"
   ]
  },
  {
   "cell_type": "markdown",
   "id": "2de608e8",
   "metadata": {},
   "source": [
    "# 9. Marital status"
   ]
  },
  {
   "cell_type": "code",
   "execution_count": 41,
   "id": "0102fdb3",
   "metadata": {},
   "outputs": [
    {
     "data": {
      "image/png": "[encoded data removed]",
      "text/plain": [
       "<Figure size 1000x500 with 2 Axes>"
      ]
     },
     "metadata": {},
     "output_type": "display_data"
    }
   ],
   "source": [
    "sns.catplot(data=datafile,y='Marital_status',col='Income',kind=\"count\")\n",
    "plt.show()\n"
   ]
  },
  {
   "cell_type": "markdown",
   "id": "483b517a",
   "metadata": {},
   "source": [
    "# Observations-\n",
    "1. For <=50K income group, Never married, Married civ spouse employees are maximum.\n",
    "2. We could see a good number of divorced having income<=50K. This can raise a question - Is low income increasing probability of getting divorce ? \n",
    "3. Do low income employees pefer to live single than in family? beccause major portion of low income are single."
   ]
  },
  {
   "cell_type": "markdown",
   "id": "c0e9fb86",
   "metadata": {},
   "source": [
    "# 10. Occupation"
   ]
  },
  {
   "cell_type": "code",
   "execution_count": 42,
   "id": "76083b18",
   "metadata": {},
   "outputs": [
    {
     "data": {
      "text/html": [
       "<div>\n",
       "<style scoped>\n",
       "    .dataframe tbody tr th:only-of-type {\n",
       "        vertical-align: middle;\n",
       "    }\n",
       "\n",
       "    .dataframe tbody tr th {\n",
       "        vertical-align: top;\n",
       "    }\n",
       "\n",
       "    .dataframe thead th {\n",
       "        text-align: right;\n",
       "    }\n",
       "</style>\n",
       "<table border=\"1\" class=\"dataframe\">\n",
       "  <thead>\n",
       "    <tr style=\"text-align: right;\">\n",
       "      <th></th>\n",
       "      <th>count</th>\n",
       "      <th>sum</th>\n",
       "    </tr>\n",
       "    <tr>\n",
       "      <th>Occupation</th>\n",
       "      <th></th>\n",
       "      <th></th>\n",
       "    </tr>\n",
       "  </thead>\n",
       "  <tbody>\n",
       "    <tr>\n",
       "      <th>Other-service</th>\n",
       "      <td>5134</td>\n",
       "      <td>968334257</td>\n",
       "    </tr>\n",
       "    <tr>\n",
       "      <th>Prof-specialty</th>\n",
       "      <td>4136</td>\n",
       "      <td>766031265</td>\n",
       "    </tr>\n",
       "    <tr>\n",
       "      <th>Craft-repair</th>\n",
       "      <td>4094</td>\n",
       "      <td>786964477</td>\n",
       "    </tr>\n",
       "    <tr>\n",
       "      <th>Exec-managerial</th>\n",
       "      <td>4065</td>\n",
       "      <td>749680696</td>\n",
       "    </tr>\n",
       "    <tr>\n",
       "      <th>Adm-clerical</th>\n",
       "      <td>3768</td>\n",
       "      <td>723731835</td>\n",
       "    </tr>\n",
       "    <tr>\n",
       "      <th>Sales</th>\n",
       "      <td>3650</td>\n",
       "      <td>696733506</td>\n",
       "    </tr>\n",
       "    <tr>\n",
       "      <th>Machine-op-inspct</th>\n",
       "      <td>2000</td>\n",
       "      <td>390009053</td>\n",
       "    </tr>\n",
       "    <tr>\n",
       "      <th>Transport-moving</th>\n",
       "      <td>1597</td>\n",
       "      <td>304015069</td>\n",
       "    </tr>\n",
       "    <tr>\n",
       "      <th>Handlers-cleaners</th>\n",
       "      <td>1369</td>\n",
       "      <td>279775542</td>\n",
       "    </tr>\n",
       "    <tr>\n",
       "      <th>Farming-fishing</th>\n",
       "      <td>992</td>\n",
       "      <td>168828406</td>\n",
       "    </tr>\n",
       "    <tr>\n",
       "      <th>Tech-support</th>\n",
       "      <td>927</td>\n",
       "      <td>178159566</td>\n",
       "    </tr>\n",
       "    <tr>\n",
       "      <th>Protective-serv</th>\n",
       "      <td>649</td>\n",
       "      <td>131123930</td>\n",
       "    </tr>\n",
       "    <tr>\n",
       "      <th>Priv-house-serv</th>\n",
       "      <td>147</td>\n",
       "      <td>29573033</td>\n",
       "    </tr>\n",
       "    <tr>\n",
       "      <th>Armed-Forces</th>\n",
       "      <td>9</td>\n",
       "      <td>1938833</td>\n",
       "    </tr>\n",
       "  </tbody>\n",
       "</table>\n",
       "</div>"
      ],
      "text/plain": [
       "                   count        sum\n",
       "Occupation                         \n",
       "Other-service       5134  968334257\n",
       "Prof-specialty      4136  766031265\n",
       "Craft-repair        4094  786964477\n",
       "Exec-managerial     4065  749680696\n",
       "Adm-clerical        3768  723731835\n",
       "Sales               3650  696733506\n",
       "Machine-op-inspct   2000  390009053\n",
       "Transport-moving    1597  304015069\n",
       "Handlers-cleaners   1369  279775542\n",
       "Farming-fishing      992  168828406\n",
       "Tech-support         927  178159566\n",
       "Protective-serv      649  131123930\n",
       "Priv-house-serv      147   29573033\n",
       "Armed-Forces           9    1938833"
      ]
     },
     "execution_count": 42,
     "metadata": {},
     "output_type": "execute_result"
    }
   ],
   "source": [
    "occu=datafile.groupby('Occupation')['Final_census'].agg([\"count\",\"sum\"]).sort_values(by=\"count\",ascending=False)\n",
    "occu"
   ]
  },
  {
   "cell_type": "code",
   "execution_count": 43,
   "id": "5d943843",
   "metadata": {},
   "outputs": [
    {
     "data": {
      "image/png": "[encoded data removed]",
      "text/plain": [
       "<Figure size 640x480 with 1 Axes>"
      ]
     },
     "metadata": {},
     "output_type": "display_data"
    }
   ],
   "source": [
    "sns.barplot(data=occu,x=occu.index,y='sum')\n",
    "plt.xticks(rotation=90)\n",
    "plt.show()"
   ]
  },
  {
   "cell_type": "code",
   "execution_count": 44,
   "id": "c0e1d175",
   "metadata": {},
   "outputs": [
    {
     "data": {
      "image/png": "[encoded data removed]",
      "text/plain": [
       "<Figure size 1000x500 with 2 Axes>"
      ]
     },
     "metadata": {},
     "output_type": "display_data"
    }
   ],
   "source": [
    "sns.catplot(data=datafile,y='Occupation',col='Income',kind=\"count\")\n",
    "plt.show()\n"
   ]
  },
  {
   "cell_type": "markdown",
   "id": "22dbc7fc",
   "metadata": {},
   "source": [
    "# Observations-\n",
    "1. Mostly employees are in prof-specialty,creaftrepair,executive,administrative and sales jobs.\n",
    "2. In >50K income group, exec-managerial,prof-specialty are there."
   ]
  },
  {
   "cell_type": "markdown",
   "id": "be4cf1b9",
   "metadata": {},
   "source": [
    "# 11. Relationship"
   ]
  },
  {
   "cell_type": "code",
   "execution_count": 45,
   "id": "ad93909b",
   "metadata": {},
   "outputs": [
    {
     "data": {
      "image/png": "[encoded data removed]",
      "text/plain": [
       "<Figure size 640x480 with 1 Axes>"
      ]
     },
     "metadata": {},
     "output_type": "display_data"
    }
   ],
   "source": [
    "crosstb=pd.crosstab(datafile.Relationship,datafile.Income)\n",
    "crosstb.plot(kind=\"bar\", stacked=True, rot=0,sort_columns=True)\n",
    "plt.xticks(rotation=90)\n",
    "plt.show()"
   ]
  },
  {
   "cell_type": "markdown",
   "id": "3a01a192",
   "metadata": {},
   "source": [
    "# Observations-\n",
    "1. Mostly husband and not in family are employees.\n",
    "2. Not in family , having dependents, unmarried are having 90% employee with low income.\n",
    "3. Pair are having mostly high income, whereas, single working are mostly low income."
   ]
  },
  {
   "cell_type": "markdown",
   "id": "2f2ad44e",
   "metadata": {},
   "source": [
    "# 12 Race"
   ]
  },
  {
   "cell_type": "code",
   "execution_count": 46,
   "id": "f2776bd0",
   "metadata": {},
   "outputs": [
    {
     "data": {
      "text/plain": [
       "<seaborn.axisgrid.FacetGrid at 0x2bfc08f6620>"
      ]
     },
     "execution_count": 46,
     "metadata": {},
     "output_type": "execute_result"
    },
    {
     "data": {
      "image/png": "[encoded data removed]",
      "text/plain": [
       "<Figure size 1000x500 with 2 Axes>"
      ]
     },
     "metadata": {},
     "output_type": "display_data"
    }
   ],
   "source": [
    "\n",
    "sns.catplot(data=datafile,y='Race',col='Income',kind=\"count\",palette=\"pastel\",estimator='sum')\n"
   ]
  },
  {
   "cell_type": "code",
   "execution_count": 47,
   "id": "4b06a17c",
   "metadata": {},
   "outputs": [
    {
     "data": {
      "image/png": "[encoded data removed]",
      "text/plain": [
       "<Figure size 640x480 with 1 Axes>"
      ]
     },
     "metadata": {},
     "output_type": "display_data"
    }
   ],
   "source": [
    "x=datafile['Race'].value_counts()\n",
    "plt.pie(x,labels=x.index,autopct='%1.1f%%',explode=[0,0,0.5,1,1.5])\n",
    "plt.show()"
   ]
  },
  {
   "cell_type": "markdown",
   "id": "265e5fa8",
   "metadata": {},
   "source": [
    "# Observations-\n",
    "1. Almost 85% employees are white\n",
    "2. This suggest whites are given more preference."
   ]
  },
  {
   "cell_type": "markdown",
   "id": "a0e44105",
   "metadata": {},
   "source": [
    "# 13. Gender"
   ]
  },
  {
   "cell_type": "code",
   "execution_count": 48,
   "id": "ed452e16",
   "metadata": {},
   "outputs": [
    {
     "data": {
      "image/png": "[encoded data removed]",
      "text/plain": [
       "<Figure size 1000x500 with 2 Axes>"
      ]
     },
     "metadata": {},
     "output_type": "display_data"
    }
   ],
   "source": [
    "sns.catplot(data=datafile,x='Gender',col='Income',kind=\"count\",palette=\"pastel\")\n",
    "plt.show()"
   ]
  },
  {
   "cell_type": "code",
   "execution_count": 49,
   "id": "67218126",
   "metadata": {},
   "outputs": [
    {
     "data": {
      "text/plain": [
       " Male      0.669238\n",
       " Female    0.330762\n",
       "Name: Gender, dtype: float64"
      ]
     },
     "execution_count": 49,
     "metadata": {},
     "output_type": "execute_result"
    }
   ],
   "source": [
    "datafile['Gender'].value_counts(normalize=True)"
   ]
  },
  {
   "cell_type": "markdown",
   "id": "1485cfbb",
   "metadata": {},
   "source": [
    "# Observations-\n",
    "1. Around 67% are males out of total employees.\n",
    "2. Males are leading in both income groups.\n",
    "3. Very less women are having income >50K."
   ]
  },
  {
   "cell_type": "markdown",
   "id": "4246f43b",
   "metadata": {},
   "source": [
    "# 14. Country"
   ]
  },
  {
   "cell_type": "code",
   "execution_count": 50,
   "id": "2faf9751",
   "metadata": {},
   "outputs": [
    {
     "data": {
      "image/png": "[encoded data removed]",
      "text/plain": [
       "<Figure size 1000x500 with 2 Axes>"
      ]
     },
     "metadata": {},
     "output_type": "display_data"
    }
   ],
   "source": [
    "sns.catplot(data=datafile,x='Country',col='Income',kind=\"count\",palette=\"pastel\")\n",
    "plt.show()"
   ]
  },
  {
   "cell_type": "code",
   "execution_count": 51,
   "id": "b428f774",
   "metadata": {},
   "outputs": [
    {
     "data": {
      "text/plain": [
       "United-States    0.895995\n",
       "Other            0.104005\n",
       "Name: Country, dtype: float64"
      ]
     },
     "execution_count": 51,
     "metadata": {},
     "output_type": "execute_result"
    }
   ],
   "source": [
    "datafile['Country'].value_counts(normalize=True)"
   ]
  },
  {
   "cell_type": "markdown",
   "id": "4b4f3924",
   "metadata": {},
   "source": [
    "# Observations -\n",
    "1. 90% of employees are US residents.\n",
    "2. This suggest strict immigration policies of USA as confirmed by race analysis."
   ]
  },
  {
   "cell_type": "markdown",
   "id": "682202e0",
   "metadata": {},
   "source": [
    "# 15 Income"
   ]
  },
  {
   "cell_type": "code",
   "execution_count": 52,
   "id": "bd3392d5",
   "metadata": {},
   "outputs": [
    {
     "data": {
      "image/png": "[encoded data removed]",
      "text/plain": [
       "<Figure size 500x500 with 1 Axes>"
      ]
     },
     "metadata": {},
     "output_type": "display_data"
    }
   ],
   "source": [
    "sns.catplot(data=datafile,x='Income',kind=\"count\",palette=\"pastel\")\n",
    "plt.show()"
   ]
  },
  {
   "cell_type": "code",
   "execution_count": 53,
   "id": "64109d8a",
   "metadata": {},
   "outputs": [
    {
     "data": {
      "text/plain": [
       " <=50K    0.759074\n",
       " >50K     0.240926\n",
       "Name: Income, dtype: float64"
      ]
     },
     "execution_count": 53,
     "metadata": {},
     "output_type": "execute_result"
    }
   ],
   "source": [
    "datafile['Income'].value_counts(normalize=True)"
   ]
  },
  {
   "cell_type": "markdown",
   "id": "21957508",
   "metadata": {},
   "source": [
    "# Observations-\n",
    "1. Almost 75% of salary distribution lies in cluster of employees who is having exact 50000 salary or less than that."
   ]
  },
  {
   "cell_type": "markdown",
   "id": "b4854805",
   "metadata": {},
   "source": [
    "# 16 Other relational analysis"
   ]
  },
  {
   "cell_type": "code",
   "execution_count": 54,
   "id": "6b0ff6ac",
   "metadata": {},
   "outputs": [
    {
     "data": {
      "image/png": "[encoded data removed]",
      "text/plain": [
       "<Figure size 500x500 with 1 Axes>"
      ]
     },
     "metadata": {},
     "output_type": "display_data"
    }
   ],
   "source": [
    "sns.catplot(data=datafile,x='Income',kind=\"boxen\",y='Age' )\n",
    "plt.show()"
   ]
  },
  {
   "cell_type": "markdown",
   "id": "433ecf67",
   "metadata": {},
   "source": [
    "# Observations -\n",
    "1. Avg age is 35 and 45 for low and high income respectively."
   ]
  },
  {
   "cell_type": "code",
   "execution_count": 55,
   "id": "ab9539a4",
   "metadata": {},
   "outputs": [
    {
     "data": {
      "text/html": [
       "<div>\n",
       "<style scoped>\n",
       "    .dataframe tbody tr th:only-of-type {\n",
       "        vertical-align: middle;\n",
       "    }\n",
       "\n",
       "    .dataframe tbody tr th {\n",
       "        vertical-align: top;\n",
       "    }\n",
       "\n",
       "    .dataframe thead th {\n",
       "        text-align: right;\n",
       "    }\n",
       "</style>\n",
       "<table border=\"1\" class=\"dataframe\">\n",
       "  <thead>\n",
       "    <tr style=\"text-align: right;\">\n",
       "      <th></th>\n",
       "      <th>Age</th>\n",
       "      <th>Final_census</th>\n",
       "      <th>Education_num</th>\n",
       "      <th>Capital_gain</th>\n",
       "      <th>Capital_loss</th>\n",
       "      <th>Hours_per_week</th>\n",
       "    </tr>\n",
       "  </thead>\n",
       "  <tbody>\n",
       "    <tr>\n",
       "      <th>count</th>\n",
       "      <td>32537.000000</td>\n",
       "      <td>3.253700e+04</td>\n",
       "      <td>32537.000000</td>\n",
       "      <td>32537.000000</td>\n",
       "      <td>32537.000000</td>\n",
       "      <td>32537.000000</td>\n",
       "    </tr>\n",
       "    <tr>\n",
       "      <th>mean</th>\n",
       "      <td>38.585549</td>\n",
       "      <td>1.897808e+05</td>\n",
       "      <td>10.081815</td>\n",
       "      <td>1078.443741</td>\n",
       "      <td>87.368227</td>\n",
       "      <td>40.440329</td>\n",
       "    </tr>\n",
       "    <tr>\n",
       "      <th>std</th>\n",
       "      <td>13.637984</td>\n",
       "      <td>1.055565e+05</td>\n",
       "      <td>2.571633</td>\n",
       "      <td>7387.957424</td>\n",
       "      <td>403.101833</td>\n",
       "      <td>12.346889</td>\n",
       "    </tr>\n",
       "    <tr>\n",
       "      <th>min</th>\n",
       "      <td>17.000000</td>\n",
       "      <td>1.228500e+04</td>\n",
       "      <td>1.000000</td>\n",
       "      <td>0.000000</td>\n",
       "      <td>0.000000</td>\n",
       "      <td>1.000000</td>\n",
       "    </tr>\n",
       "    <tr>\n",
       "      <th>25%</th>\n",
       "      <td>28.000000</td>\n",
       "      <td>1.178270e+05</td>\n",
       "      <td>9.000000</td>\n",
       "      <td>0.000000</td>\n",
       "      <td>0.000000</td>\n",
       "      <td>40.000000</td>\n",
       "    </tr>\n",
       "    <tr>\n",
       "      <th>50%</th>\n",
       "      <td>37.000000</td>\n",
       "      <td>1.783560e+05</td>\n",
       "      <td>10.000000</td>\n",
       "      <td>0.000000</td>\n",
       "      <td>0.000000</td>\n",
       "      <td>40.000000</td>\n",
       "    </tr>\n",
       "    <tr>\n",
       "      <th>75%</th>\n",
       "      <td>48.000000</td>\n",
       "      <td>2.369930e+05</td>\n",
       "      <td>12.000000</td>\n",
       "      <td>0.000000</td>\n",
       "      <td>0.000000</td>\n",
       "      <td>45.000000</td>\n",
       "    </tr>\n",
       "    <tr>\n",
       "      <th>max</th>\n",
       "      <td>90.000000</td>\n",
       "      <td>1.484705e+06</td>\n",
       "      <td>16.000000</td>\n",
       "      <td>99999.000000</td>\n",
       "      <td>4356.000000</td>\n",
       "      <td>99.000000</td>\n",
       "    </tr>\n",
       "  </tbody>\n",
       "</table>\n",
       "</div>"
      ],
      "text/plain": [
       "                Age  Final_census  Education_num  Capital_gain  Capital_loss  \\\n",
       "count  32537.000000  3.253700e+04   32537.000000  32537.000000  32537.000000   \n",
       "mean      38.585549  1.897808e+05      10.081815   1078.443741     87.368227   \n",
       "std       13.637984  1.055565e+05       2.571633   7387.957424    403.101833   \n",
       "min       17.000000  1.228500e+04       1.000000      0.000000      0.000000   \n",
       "25%       28.000000  1.178270e+05       9.000000      0.000000      0.000000   \n",
       "50%       37.000000  1.783560e+05      10.000000      0.000000      0.000000   \n",
       "75%       48.000000  2.369930e+05      12.000000      0.000000      0.000000   \n",
       "max       90.000000  1.484705e+06      16.000000  99999.000000   4356.000000   \n",
       "\n",
       "       Hours_per_week  \n",
       "count    32537.000000  \n",
       "mean        40.440329  \n",
       "std         12.346889  \n",
       "min          1.000000  \n",
       "25%         40.000000  \n",
       "50%         40.000000  \n",
       "75%         45.000000  \n",
       "max         99.000000  "
      ]
     },
     "execution_count": 55,
     "metadata": {},
     "output_type": "execute_result"
    }
   ],
   "source": [
    "datafile.describe()"
   ]
  },
  {
   "cell_type": "markdown",
   "id": "42aad068",
   "metadata": {},
   "source": [
    "# Observations-\n",
    "1. Age - Range of age is between 17 to 90 and mean age is 39.\n",
    "2. Education_num- Years spent on education - Range is 1 to 16 with mean of 10.\n",
    "4. Hours per week - Range is 1 to 99 with mean of 40.\n"
   ]
  },
  {
   "cell_type": "markdown",
   "id": "fba50216",
   "metadata": {},
   "source": [
    "# Heatmap used to visualize the correlation of numerical variables."
   ]
  },
  {
   "cell_type": "code",
   "execution_count": 56,
   "id": "a81b8527",
   "metadata": {},
   "outputs": [
    {
     "data": {
      "text/plain": [
       "<AxesSubplot: >"
      ]
     },
     "execution_count": 56,
     "metadata": {},
     "output_type": "execute_result"
    },
    {
     "data": {
      "image/png": "[encoded data removed]",
      "text/plain": [
       "<Figure size 640x480 with 2 Axes>"
      ]
     },
     "metadata": {},
     "output_type": "display_data"
    }
   ],
   "source": [
    "\n",
    "sns.heatmap(datafile.corr(),annot=True)"
   ]
  },
  {
   "cell_type": "markdown",
   "id": "5a2b41ec",
   "metadata": {},
   "source": [
    "# Observation-\n",
    "1. We could see that there is weak correlation between numerical columns."
   ]
  },
  {
   "cell_type": "code",
   "execution_count": 57,
   "id": "6b38d363",
   "metadata": {},
   "outputs": [
    {
     "data": {
      "text/plain": [
       "['Profession Class',\n",
       " 'Education',\n",
       " 'Marital_status',\n",
       " 'Occupation',\n",
       " 'Relationship',\n",
       " 'Race',\n",
       " 'Gender',\n",
       " 'Country',\n",
       " 'Income']"
      ]
     },
     "execution_count": 57,
     "metadata": {},
     "output_type": "execute_result"
    }
   ],
   "source": [
    "#categorical columns\n",
    "cat_col=[]\n",
    "for i in datafile.columns:\n",
    "    if datafile[i].dtype=='object':\n",
    "        cat_col.append(i)\n",
    "        \n",
    "cat_col   "
   ]
  },
  {
   "cell_type": "markdown",
   "id": "ff4aa286",
   "metadata": {},
   "source": [
    "# Hypothesis testing for testing relation between categorical variables."
   ]
  },
  {
   "cell_type": "markdown",
   "id": "5351c813",
   "metadata": {},
   "source": [
    "This test is used to determine if two categorical variables are independent or if they are in fact related to one another. If two categorical variables are independent, then the value of one variable does not change the probability distribution of the other.\n",
    "\n",
    "Hypothesis:\n",
    "Ho: The variables are independent means independent variable does not influence dependent variable.\n",
    "HA: The variables are not independent (meaning they are related ie independent variable influence dependent variable).\n",
    "\n",
    "chi-square test value,x^2= Sum(Actual-Expected)**2/Expected.\n"
   ]
  },
  {
   "cell_type": "code",
   "execution_count": 58,
   "id": "c6b0333b",
   "metadata": {},
   "outputs": [
    {
     "data": {
      "text/html": [
       "<div>\n",
       "<style scoped>\n",
       "    .dataframe tbody tr th:only-of-type {\n",
       "        vertical-align: middle;\n",
       "    }\n",
       "\n",
       "    .dataframe tbody tr th {\n",
       "        vertical-align: top;\n",
       "    }\n",
       "\n",
       "    .dataframe thead th {\n",
       "        text-align: right;\n",
       "    }\n",
       "</style>\n",
       "<table border=\"1\" class=\"dataframe\">\n",
       "  <thead>\n",
       "    <tr style=\"text-align: right;\">\n",
       "      <th></th>\n",
       "      <th>Column</th>\n",
       "      <th>Hypothesis Result</th>\n",
       "    </tr>\n",
       "  </thead>\n",
       "  <tbody>\n",
       "    <tr>\n",
       "      <th>0</th>\n",
       "      <td>Profession Class</td>\n",
       "      <td>Reject Null Hypothesis</td>\n",
       "    </tr>\n",
       "    <tr>\n",
       "      <th>1</th>\n",
       "      <td>Education</td>\n",
       "      <td>Reject Null Hypothesis</td>\n",
       "    </tr>\n",
       "    <tr>\n",
       "      <th>2</th>\n",
       "      <td>Marital_status</td>\n",
       "      <td>Reject Null Hypothesis</td>\n",
       "    </tr>\n",
       "    <tr>\n",
       "      <th>3</th>\n",
       "      <td>Occupation</td>\n",
       "      <td>Reject Null Hypothesis</td>\n",
       "    </tr>\n",
       "    <tr>\n",
       "      <th>4</th>\n",
       "      <td>Relationship</td>\n",
       "      <td>Reject Null Hypothesis</td>\n",
       "    </tr>\n",
       "    <tr>\n",
       "      <th>5</th>\n",
       "      <td>Race</td>\n",
       "      <td>Reject Null Hypothesis</td>\n",
       "    </tr>\n",
       "    <tr>\n",
       "      <th>6</th>\n",
       "      <td>Gender</td>\n",
       "      <td>Reject Null Hypothesis</td>\n",
       "    </tr>\n",
       "    <tr>\n",
       "      <th>7</th>\n",
       "      <td>Country</td>\n",
       "      <td>Reject Null Hypothesis</td>\n",
       "    </tr>\n",
       "    <tr>\n",
       "      <th>8</th>\n",
       "      <td>Income</td>\n",
       "      <td>Reject Null Hypothesis</td>\n",
       "    </tr>\n",
       "  </tbody>\n",
       "</table>\n",
       "</div>"
      ],
      "text/plain": [
       "             Column       Hypothesis Result\n",
       "0  Profession Class  Reject Null Hypothesis\n",
       "1         Education  Reject Null Hypothesis\n",
       "2    Marital_status  Reject Null Hypothesis\n",
       "3        Occupation  Reject Null Hypothesis\n",
       "4      Relationship  Reject Null Hypothesis\n",
       "5              Race  Reject Null Hypothesis\n",
       "6            Gender  Reject Null Hypothesis\n",
       "7           Country  Reject Null Hypothesis\n",
       "8            Income  Reject Null Hypothesis"
      ]
     },
     "execution_count": 58,
     "metadata": {},
     "output_type": "execute_result"
    }
   ],
   "source": [
    "# For Categorical variables- Chi-square test of independence of variables in a contingency table.\n",
    "from scipy.stats import chi2_contingency\n",
    "chi2_test = []\n",
    "for feature in datafile[cat_col]:\n",
    "    if chi2_contingency(pd.crosstab(datafile['Income'], datafile[feature]))[1] < 0.05:\n",
    "        chi2_test.append('Reject Null Hypothesis')\n",
    "    else:\n",
    "        chi2_test.append('Fail to Reject Null Hypothesis')\n",
    "result = pd.DataFrame(data=[cat_col, chi2_test]).T\n",
    "result.columns = ['Column', 'Hypothesis Result']\n",
    "result"
   ]
  },
  {
   "cell_type": "markdown",
   "id": "51343166",
   "metadata": {},
   "source": [
    "#  Encoding the  object datatype columns:"
   ]
  },
  {
   "cell_type": "code",
   "execution_count": 59,
   "id": "5bd261c1",
   "metadata": {},
   "outputs": [
    {
     "name": "stdout",
     "output_type": "stream",
     "text": [
      "********************************\n",
      "Profession Class\n",
      "Private             24509\n",
      "Self-emp-not-inc     2540\n",
      "Local-gov            2093\n",
      "State-gov            1298\n",
      "Self-emp-inc         1116\n",
      "Federal-gov           960\n",
      "Without-pay            14\n",
      "Never-worked            7\n",
      "Name: Profession Class, dtype: int64\n",
      "********************************\n",
      "Education\n",
      "HS-grad         10494\n",
      "Some-college     7282\n",
      "Bachelors        5353\n",
      "High School      4248\n",
      "Masters          1722\n",
      "Assoc-voc        1382\n",
      "Assoc-acdm       1067\n",
      "Prof-school       576\n",
      "Doctorate         413\n",
      "Name: Education, dtype: int64\n",
      "********************************\n",
      "Marital_status\n",
      " Married-civ-spouse       14970\n",
      " Never-married            10667\n",
      " Divorced                  4441\n",
      " Separated                 1025\n",
      " Widowed                    993\n",
      " Married-spouse-absent      418\n",
      " Married-AF-spouse           23\n",
      "Name: Marital_status, dtype: int64\n",
      "********************************\n",
      "Occupation\n",
      "Other-service        5134\n",
      "Prof-specialty       4136\n",
      "Craft-repair         4094\n",
      "Exec-managerial      4065\n",
      "Adm-clerical         3768\n",
      "Sales                3650\n",
      "Machine-op-inspct    2000\n",
      "Transport-moving     1597\n",
      "Handlers-cleaners    1369\n",
      "Farming-fishing       992\n",
      "Tech-support          927\n",
      "Protective-serv       649\n",
      "Priv-house-serv       147\n",
      "Armed-Forces            9\n",
      "Name: Occupation, dtype: int64\n",
      "********************************\n",
      "Relationship\n",
      " Husband           13187\n",
      " Not-in-family      8292\n",
      " Own-child          5064\n",
      " Unmarried          3445\n",
      " Wife               1568\n",
      " Other-relative      981\n",
      "Name: Relationship, dtype: int64\n",
      "********************************\n",
      "Race\n",
      " White                 27795\n",
      " Black                  3122\n",
      " Asian-Pac-Islander     1038\n",
      " Amer-Indian-Eskimo      311\n",
      " Other                   271\n",
      "Name: Race, dtype: int64\n",
      "********************************\n",
      "Gender\n",
      " Male      21775\n",
      " Female    10762\n",
      "Name: Gender, dtype: int64\n",
      "********************************\n",
      "Country\n",
      "United-States    29153\n",
      "Other             3384\n",
      "Name: Country, dtype: int64\n",
      "********************************\n",
      "Income\n",
      " <=50K    24698\n",
      " >50K      7839\n",
      "Name: Income, dtype: int64\n"
     ]
    }
   ],
   "source": [
    "for i in datafile.select_dtypes('O').columns:\n",
    "    print('********************************')\n",
    "    print(i)\n",
    "    print(datafile[i].value_counts())"
   ]
  },
  {
   "cell_type": "markdown",
   "id": "4d03cccb",
   "metadata": {},
   "source": [
    "# using label encoder for binary class and one hot encoder for multiclass."
   ]
  },
  {
   "cell_type": "code",
   "execution_count": 60,
   "id": "e159af59",
   "metadata": {},
   "outputs": [],
   "source": [
    "datafile['Gender']=datafile['Gender'].str.strip()\n",
    "datafile['Gender']=datafile['Gender'].map({'Male':0,'Female':1})"
   ]
  },
  {
   "cell_type": "code",
   "execution_count": 61,
   "id": "c7244166",
   "metadata": {},
   "outputs": [],
   "source": [
    "datafile['Country']=datafile['Country'].str.strip()\n",
    "datafile['Country']=datafile['Country'].map({'Other':0,'United-States':1})"
   ]
  },
  {
   "cell_type": "code",
   "execution_count": 62,
   "id": "fafc0f13",
   "metadata": {},
   "outputs": [],
   "source": [
    "datafile['Income']=datafile['Income'].str.strip()\n",
    "datafile['Income']=datafile['Income'].map({'<=50K':0,'>50K':1})"
   ]
  },
  {
   "cell_type": "code",
   "execution_count": 63,
   "id": "3f408078",
   "metadata": {},
   "outputs": [],
   "source": [
    "datafile=pd.get_dummies(columns=['Profession Class','Education','Marital_status','Occupation','Race',\n",
    "                                 'Relationship'],data=datafile,drop_first=True)"
   ]
  },
  {
   "cell_type": "code",
   "execution_count": 64,
   "id": "cb88814b",
   "metadata": {},
   "outputs": [
    {
     "data": {
      "text/html": [
       "<div>\n",
       "<style scoped>\n",
       "    .dataframe tbody tr th:only-of-type {\n",
       "        vertical-align: middle;\n",
       "    }\n",
       "\n",
       "    .dataframe tbody tr th {\n",
       "        vertical-align: top;\n",
       "    }\n",
       "\n",
       "    .dataframe thead th {\n",
       "        text-align: right;\n",
       "    }\n",
       "</style>\n",
       "<table border=\"1\" class=\"dataframe\">\n",
       "  <thead>\n",
       "    <tr style=\"text-align: right;\">\n",
       "      <th></th>\n",
       "      <th>Age</th>\n",
       "      <th>Final_census</th>\n",
       "      <th>Education_num</th>\n",
       "      <th>Gender</th>\n",
       "      <th>Capital_gain</th>\n",
       "      <th>Capital_loss</th>\n",
       "      <th>Hours_per_week</th>\n",
       "      <th>Country</th>\n",
       "      <th>Income</th>\n",
       "      <th>Profession Class_Local-gov</th>\n",
       "      <th>...</th>\n",
       "      <th>Occupation_Transport-moving</th>\n",
       "      <th>Race_ Asian-Pac-Islander</th>\n",
       "      <th>Race_ Black</th>\n",
       "      <th>Race_ Other</th>\n",
       "      <th>Race_ White</th>\n",
       "      <th>Relationship_ Not-in-family</th>\n",
       "      <th>Relationship_ Other-relative</th>\n",
       "      <th>Relationship_ Own-child</th>\n",
       "      <th>Relationship_ Unmarried</th>\n",
       "      <th>Relationship_ Wife</th>\n",
       "    </tr>\n",
       "  </thead>\n",
       "  <tbody>\n",
       "    <tr>\n",
       "      <th>0</th>\n",
       "      <td>39</td>\n",
       "      <td>77516</td>\n",
       "      <td>13</td>\n",
       "      <td>0</td>\n",
       "      <td>2174</td>\n",
       "      <td>0</td>\n",
       "      <td>40</td>\n",
       "      <td>1</td>\n",
       "      <td>0</td>\n",
       "      <td>0</td>\n",
       "      <td>...</td>\n",
       "      <td>0</td>\n",
       "      <td>0</td>\n",
       "      <td>0</td>\n",
       "      <td>0</td>\n",
       "      <td>1</td>\n",
       "      <td>1</td>\n",
       "      <td>0</td>\n",
       "      <td>0</td>\n",
       "      <td>0</td>\n",
       "      <td>0</td>\n",
       "    </tr>\n",
       "    <tr>\n",
       "      <th>1</th>\n",
       "      <td>50</td>\n",
       "      <td>83311</td>\n",
       "      <td>13</td>\n",
       "      <td>0</td>\n",
       "      <td>0</td>\n",
       "      <td>0</td>\n",
       "      <td>13</td>\n",
       "      <td>1</td>\n",
       "      <td>0</td>\n",
       "      <td>0</td>\n",
       "      <td>...</td>\n",
       "      <td>0</td>\n",
       "      <td>0</td>\n",
       "      <td>0</td>\n",
       "      <td>0</td>\n",
       "      <td>1</td>\n",
       "      <td>0</td>\n",
       "      <td>0</td>\n",
       "      <td>0</td>\n",
       "      <td>0</td>\n",
       "      <td>0</td>\n",
       "    </tr>\n",
       "    <tr>\n",
       "      <th>2</th>\n",
       "      <td>38</td>\n",
       "      <td>215646</td>\n",
       "      <td>9</td>\n",
       "      <td>0</td>\n",
       "      <td>0</td>\n",
       "      <td>0</td>\n",
       "      <td>40</td>\n",
       "      <td>1</td>\n",
       "      <td>0</td>\n",
       "      <td>0</td>\n",
       "      <td>...</td>\n",
       "      <td>0</td>\n",
       "      <td>0</td>\n",
       "      <td>0</td>\n",
       "      <td>0</td>\n",
       "      <td>1</td>\n",
       "      <td>1</td>\n",
       "      <td>0</td>\n",
       "      <td>0</td>\n",
       "      <td>0</td>\n",
       "      <td>0</td>\n",
       "    </tr>\n",
       "    <tr>\n",
       "      <th>3</th>\n",
       "      <td>53</td>\n",
       "      <td>234721</td>\n",
       "      <td>7</td>\n",
       "      <td>0</td>\n",
       "      <td>0</td>\n",
       "      <td>0</td>\n",
       "      <td>40</td>\n",
       "      <td>1</td>\n",
       "      <td>0</td>\n",
       "      <td>0</td>\n",
       "      <td>...</td>\n",
       "      <td>0</td>\n",
       "      <td>0</td>\n",
       "      <td>1</td>\n",
       "      <td>0</td>\n",
       "      <td>0</td>\n",
       "      <td>0</td>\n",
       "      <td>0</td>\n",
       "      <td>0</td>\n",
       "      <td>0</td>\n",
       "      <td>0</td>\n",
       "    </tr>\n",
       "    <tr>\n",
       "      <th>4</th>\n",
       "      <td>28</td>\n",
       "      <td>338409</td>\n",
       "      <td>13</td>\n",
       "      <td>1</td>\n",
       "      <td>0</td>\n",
       "      <td>0</td>\n",
       "      <td>40</td>\n",
       "      <td>0</td>\n",
       "      <td>0</td>\n",
       "      <td>0</td>\n",
       "      <td>...</td>\n",
       "      <td>0</td>\n",
       "      <td>0</td>\n",
       "      <td>1</td>\n",
       "      <td>0</td>\n",
       "      <td>0</td>\n",
       "      <td>0</td>\n",
       "      <td>0</td>\n",
       "      <td>0</td>\n",
       "      <td>0</td>\n",
       "      <td>1</td>\n",
       "    </tr>\n",
       "  </tbody>\n",
       "</table>\n",
       "<p>5 rows × 52 columns</p>\n",
       "</div>"
      ],
      "text/plain": [
       "   Age  Final_census  Education_num  Gender  Capital_gain  Capital_loss  \\\n",
       "0   39         77516             13       0          2174             0   \n",
       "1   50         83311             13       0             0             0   \n",
       "2   38        215646              9       0             0             0   \n",
       "3   53        234721              7       0             0             0   \n",
       "4   28        338409             13       1             0             0   \n",
       "\n",
       "   Hours_per_week  Country  Income  Profession Class_Local-gov  ...  \\\n",
       "0              40        1       0                           0  ...   \n",
       "1              13        1       0                           0  ...   \n",
       "2              40        1       0                           0  ...   \n",
       "3              40        1       0                           0  ...   \n",
       "4              40        0       0                           0  ...   \n",
       "\n",
       "   Occupation_Transport-moving  Race_ Asian-Pac-Islander  Race_ Black  \\\n",
       "0                            0                         0            0   \n",
       "1                            0                         0            0   \n",
       "2                            0                         0            0   \n",
       "3                            0                         0            1   \n",
       "4                            0                         0            1   \n",
       "\n",
       "   Race_ Other  Race_ White  Relationship_ Not-in-family  \\\n",
       "0            0            1                            1   \n",
       "1            0            1                            0   \n",
       "2            0            1                            1   \n",
       "3            0            0                            0   \n",
       "4            0            0                            0   \n",
       "\n",
       "   Relationship_ Other-relative  Relationship_ Own-child  \\\n",
       "0                             0                        0   \n",
       "1                             0                        0   \n",
       "2                             0                        0   \n",
       "3                             0                        0   \n",
       "4                             0                        0   \n",
       "\n",
       "   Relationship_ Unmarried  Relationship_ Wife  \n",
       "0                        0                   0  \n",
       "1                        0                   0  \n",
       "2                        0                   0  \n",
       "3                        0                   0  \n",
       "4                        0                   1  \n",
       "\n",
       "[5 rows x 52 columns]"
      ]
     },
     "execution_count": 64,
     "metadata": {},
     "output_type": "execute_result"
    }
   ],
   "source": [
    "datafile.head()"
   ]
  },
  {
   "cell_type": "code",
   "execution_count": 65,
   "id": "92b38c11",
   "metadata": {},
   "outputs": [
    {
     "name": "stdout",
     "output_type": "stream",
     "text": [
      "<class 'pandas.core.frame.DataFrame'>\n",
      "Int64Index: 32537 entries, 0 to 32560\n",
      "Data columns (total 52 columns):\n",
      " #   Column                                 Non-Null Count  Dtype\n",
      "---  ------                                 --------------  -----\n",
      " 0   Age                                    32537 non-null  int64\n",
      " 1   Final_census                           32537 non-null  int64\n",
      " 2   Education_num                          32537 non-null  int64\n",
      " 3   Gender                                 32537 non-null  int64\n",
      " 4   Capital_gain                           32537 non-null  int64\n",
      " 5   Capital_loss                           32537 non-null  int64\n",
      " 6   Hours_per_week                         32537 non-null  int64\n",
      " 7   Country                                32537 non-null  int64\n",
      " 8   Income                                 32537 non-null  int64\n",
      " 9   Profession Class_Local-gov             32537 non-null  uint8\n",
      " 10  Profession Class_Never-worked          32537 non-null  uint8\n",
      " 11  Profession Class_Private               32537 non-null  uint8\n",
      " 12  Profession Class_Self-emp-inc          32537 non-null  uint8\n",
      " 13  Profession Class_Self-emp-not-inc      32537 non-null  uint8\n",
      " 14  Profession Class_State-gov             32537 non-null  uint8\n",
      " 15  Profession Class_Without-pay           32537 non-null  uint8\n",
      " 16  Education_Assoc-voc                    32537 non-null  uint8\n",
      " 17  Education_Bachelors                    32537 non-null  uint8\n",
      " 18  Education_Doctorate                    32537 non-null  uint8\n",
      " 19  Education_HS-grad                      32537 non-null  uint8\n",
      " 20  Education_High School                  32537 non-null  uint8\n",
      " 21  Education_Masters                      32537 non-null  uint8\n",
      " 22  Education_Prof-school                  32537 non-null  uint8\n",
      " 23  Education_Some-college                 32537 non-null  uint8\n",
      " 24  Marital_status_ Married-AF-spouse      32537 non-null  uint8\n",
      " 25  Marital_status_ Married-civ-spouse     32537 non-null  uint8\n",
      " 26  Marital_status_ Married-spouse-absent  32537 non-null  uint8\n",
      " 27  Marital_status_ Never-married          32537 non-null  uint8\n",
      " 28  Marital_status_ Separated              32537 non-null  uint8\n",
      " 29  Marital_status_ Widowed                32537 non-null  uint8\n",
      " 30  Occupation_Armed-Forces                32537 non-null  uint8\n",
      " 31  Occupation_Craft-repair                32537 non-null  uint8\n",
      " 32  Occupation_Exec-managerial             32537 non-null  uint8\n",
      " 33  Occupation_Farming-fishing             32537 non-null  uint8\n",
      " 34  Occupation_Handlers-cleaners           32537 non-null  uint8\n",
      " 35  Occupation_Machine-op-inspct           32537 non-null  uint8\n",
      " 36  Occupation_Other-service               32537 non-null  uint8\n",
      " 37  Occupation_Priv-house-serv             32537 non-null  uint8\n",
      " 38  Occupation_Prof-specialty              32537 non-null  uint8\n",
      " 39  Occupation_Protective-serv             32537 non-null  uint8\n",
      " 40  Occupation_Sales                       32537 non-null  uint8\n",
      " 41  Occupation_Tech-support                32537 non-null  uint8\n",
      " 42  Occupation_Transport-moving            32537 non-null  uint8\n",
      " 43  Race_ Asian-Pac-Islander               32537 non-null  uint8\n",
      " 44  Race_ Black                            32537 non-null  uint8\n",
      " 45  Race_ Other                            32537 non-null  uint8\n",
      " 46  Race_ White                            32537 non-null  uint8\n",
      " 47  Relationship_ Not-in-family            32537 non-null  uint8\n",
      " 48  Relationship_ Other-relative           32537 non-null  uint8\n",
      " 49  Relationship_ Own-child                32537 non-null  uint8\n",
      " 50  Relationship_ Unmarried                32537 non-null  uint8\n",
      " 51  Relationship_ Wife                     32537 non-null  uint8\n",
      "dtypes: int64(9), uint8(43)\n",
      "memory usage: 4.8 MB\n"
     ]
    }
   ],
   "source": [
    "datafile.info()"
   ]
  },
  {
   "cell_type": "markdown",
   "id": "8704bf8d",
   "metadata": {},
   "source": [
    "# Now splitting dataset into x and y so that we can do scaling -"
   ]
  },
  {
   "cell_type": "code",
   "execution_count": 66,
   "id": "42b2067c",
   "metadata": {},
   "outputs": [],
   "source": [
    "# Dropping target column income and final census as distribution for both income group is same.\n",
    "x=datafile.drop(['Income','Final_census'],axis=1)\n",
    "y=datafile['Income']"
   ]
  },
  {
   "cell_type": "code",
   "execution_count": 67,
   "id": "19fba099",
   "metadata": {},
   "outputs": [],
   "source": [
    "# scaling the columns by standard scaler as we have seen some outliers are also there.\n",
    "from sklearn.preprocessing import StandardScaler\n",
    "scaler=StandardScaler()\n",
    "x[['Age','Education_num','Capital_gain','Capital_loss','Hours_per_week']]=scaler.fit_transform(x[['Age','Education_num','Capital_gain','Capital_loss','Hours_per_week']])"
   ]
  },
  {
   "cell_type": "code",
   "execution_count": 68,
   "id": "9c3ca273",
   "metadata": {},
   "outputs": [
    {
     "data": {
      "text/html": [
       "<div>\n",
       "<style scoped>\n",
       "    .dataframe tbody tr th:only-of-type {\n",
       "        vertical-align: middle;\n",
       "    }\n",
       "\n",
       "    .dataframe tbody tr th {\n",
       "        vertical-align: top;\n",
       "    }\n",
       "\n",
       "    .dataframe thead th {\n",
       "        text-align: right;\n",
       "    }\n",
       "</style>\n",
       "<table border=\"1\" class=\"dataframe\">\n",
       "  <thead>\n",
       "    <tr style=\"text-align: right;\">\n",
       "      <th></th>\n",
       "      <th>Age</th>\n",
       "      <th>Education_num</th>\n",
       "      <th>Gender</th>\n",
       "      <th>Capital_gain</th>\n",
       "      <th>Capital_loss</th>\n",
       "      <th>Hours_per_week</th>\n",
       "      <th>Country</th>\n",
       "      <th>Profession Class_Local-gov</th>\n",
       "      <th>Profession Class_Never-worked</th>\n",
       "      <th>Profession Class_Private</th>\n",
       "      <th>...</th>\n",
       "      <th>Occupation_Transport-moving</th>\n",
       "      <th>Race_ Asian-Pac-Islander</th>\n",
       "      <th>Race_ Black</th>\n",
       "      <th>Race_ Other</th>\n",
       "      <th>Race_ White</th>\n",
       "      <th>Relationship_ Not-in-family</th>\n",
       "      <th>Relationship_ Other-relative</th>\n",
       "      <th>Relationship_ Own-child</th>\n",
       "      <th>Relationship_ Unmarried</th>\n",
       "      <th>Relationship_ Wife</th>\n",
       "    </tr>\n",
       "  </thead>\n",
       "  <tbody>\n",
       "    <tr>\n",
       "      <th>0</th>\n",
       "      <td>0.030390</td>\n",
       "      <td>1.134777</td>\n",
       "      <td>0</td>\n",
       "      <td>0.148292</td>\n",
       "      <td>-0.216743</td>\n",
       "      <td>-0.035664</td>\n",
       "      <td>1</td>\n",
       "      <td>0</td>\n",
       "      <td>0</td>\n",
       "      <td>0</td>\n",
       "      <td>...</td>\n",
       "      <td>0</td>\n",
       "      <td>0</td>\n",
       "      <td>0</td>\n",
       "      <td>0</td>\n",
       "      <td>1</td>\n",
       "      <td>1</td>\n",
       "      <td>0</td>\n",
       "      <td>0</td>\n",
       "      <td>0</td>\n",
       "      <td>0</td>\n",
       "    </tr>\n",
       "    <tr>\n",
       "      <th>1</th>\n",
       "      <td>0.836973</td>\n",
       "      <td>1.134777</td>\n",
       "      <td>0</td>\n",
       "      <td>-0.145975</td>\n",
       "      <td>-0.216743</td>\n",
       "      <td>-2.222483</td>\n",
       "      <td>1</td>\n",
       "      <td>0</td>\n",
       "      <td>0</td>\n",
       "      <td>0</td>\n",
       "      <td>...</td>\n",
       "      <td>0</td>\n",
       "      <td>0</td>\n",
       "      <td>0</td>\n",
       "      <td>0</td>\n",
       "      <td>1</td>\n",
       "      <td>0</td>\n",
       "      <td>0</td>\n",
       "      <td>0</td>\n",
       "      <td>0</td>\n",
       "      <td>0</td>\n",
       "    </tr>\n",
       "    <tr>\n",
       "      <th>2</th>\n",
       "      <td>-0.042936</td>\n",
       "      <td>-0.420679</td>\n",
       "      <td>0</td>\n",
       "      <td>-0.145975</td>\n",
       "      <td>-0.216743</td>\n",
       "      <td>-0.035664</td>\n",
       "      <td>1</td>\n",
       "      <td>0</td>\n",
       "      <td>0</td>\n",
       "      <td>1</td>\n",
       "      <td>...</td>\n",
       "      <td>0</td>\n",
       "      <td>0</td>\n",
       "      <td>0</td>\n",
       "      <td>0</td>\n",
       "      <td>1</td>\n",
       "      <td>1</td>\n",
       "      <td>0</td>\n",
       "      <td>0</td>\n",
       "      <td>0</td>\n",
       "      <td>0</td>\n",
       "    </tr>\n",
       "    <tr>\n",
       "      <th>3</th>\n",
       "      <td>1.056950</td>\n",
       "      <td>-1.198407</td>\n",
       "      <td>0</td>\n",
       "      <td>-0.145975</td>\n",
       "      <td>-0.216743</td>\n",
       "      <td>-0.035664</td>\n",
       "      <td>1</td>\n",
       "      <td>0</td>\n",
       "      <td>0</td>\n",
       "      <td>1</td>\n",
       "      <td>...</td>\n",
       "      <td>0</td>\n",
       "      <td>0</td>\n",
       "      <td>1</td>\n",
       "      <td>0</td>\n",
       "      <td>0</td>\n",
       "      <td>0</td>\n",
       "      <td>0</td>\n",
       "      <td>0</td>\n",
       "      <td>0</td>\n",
       "      <td>0</td>\n",
       "    </tr>\n",
       "    <tr>\n",
       "      <th>4</th>\n",
       "      <td>-0.776193</td>\n",
       "      <td>1.134777</td>\n",
       "      <td>1</td>\n",
       "      <td>-0.145975</td>\n",
       "      <td>-0.216743</td>\n",
       "      <td>-0.035664</td>\n",
       "      <td>0</td>\n",
       "      <td>0</td>\n",
       "      <td>0</td>\n",
       "      <td>1</td>\n",
       "      <td>...</td>\n",
       "      <td>0</td>\n",
       "      <td>0</td>\n",
       "      <td>1</td>\n",
       "      <td>0</td>\n",
       "      <td>0</td>\n",
       "      <td>0</td>\n",
       "      <td>0</td>\n",
       "      <td>0</td>\n",
       "      <td>0</td>\n",
       "      <td>1</td>\n",
       "    </tr>\n",
       "  </tbody>\n",
       "</table>\n",
       "<p>5 rows × 50 columns</p>\n",
       "</div>"
      ],
      "text/plain": [
       "        Age  Education_num  Gender  Capital_gain  Capital_loss  \\\n",
       "0  0.030390       1.134777       0      0.148292     -0.216743   \n",
       "1  0.836973       1.134777       0     -0.145975     -0.216743   \n",
       "2 -0.042936      -0.420679       0     -0.145975     -0.216743   \n",
       "3  1.056950      -1.198407       0     -0.145975     -0.216743   \n",
       "4 -0.776193       1.134777       1     -0.145975     -0.216743   \n",
       "\n",
       "   Hours_per_week  Country  Profession Class_Local-gov  \\\n",
       "0       -0.035664        1                           0   \n",
       "1       -2.222483        1                           0   \n",
       "2       -0.035664        1                           0   \n",
       "3       -0.035664        1                           0   \n",
       "4       -0.035664        0                           0   \n",
       "\n",
       "   Profession Class_Never-worked  Profession Class_Private  ...  \\\n",
       "0                              0                         0  ...   \n",
       "1                              0                         0  ...   \n",
       "2                              0                         1  ...   \n",
       "3                              0                         1  ...   \n",
       "4                              0                         1  ...   \n",
       "\n",
       "   Occupation_Transport-moving  Race_ Asian-Pac-Islander  Race_ Black  \\\n",
       "0                            0                         0            0   \n",
       "1                            0                         0            0   \n",
       "2                            0                         0            0   \n",
       "3                            0                         0            1   \n",
       "4                            0                         0            1   \n",
       "\n",
       "   Race_ Other  Race_ White  Relationship_ Not-in-family  \\\n",
       "0            0            1                            1   \n",
       "1            0            1                            0   \n",
       "2            0            1                            1   \n",
       "3            0            0                            0   \n",
       "4            0            0                            0   \n",
       "\n",
       "   Relationship_ Other-relative  Relationship_ Own-child  \\\n",
       "0                             0                        0   \n",
       "1                             0                        0   \n",
       "2                             0                        0   \n",
       "3                             0                        0   \n",
       "4                             0                        0   \n",
       "\n",
       "   Relationship_ Unmarried  Relationship_ Wife  \n",
       "0                        0                   0  \n",
       "1                        0                   0  \n",
       "2                        0                   0  \n",
       "3                        0                   0  \n",
       "4                        0                   1  \n",
       "\n",
       "[5 rows x 50 columns]"
      ]
     },
     "execution_count": 68,
     "metadata": {},
     "output_type": "execute_result"
    }
   ],
   "source": [
    "x.head()"
   ]
  },
  {
   "cell_type": "code",
   "execution_count": 69,
   "id": "dc4ac23c",
   "metadata": {},
   "outputs": [
    {
     "data": {
      "text/plain": [
       "0    0.759074\n",
       "1    0.240926\n",
       "Name: Income, dtype: float64"
      ]
     },
     "execution_count": 69,
     "metadata": {},
     "output_type": "execute_result"
    }
   ],
   "source": [
    "y.value_counts(normalize=True)"
   ]
  },
  {
   "cell_type": "markdown",
   "id": "6654cd41",
   "metadata": {},
   "source": [
    "# Split the data into training and test\n",
    "Training for building a model and test for predicting the model performance"
   ]
  },
  {
   "cell_type": "code",
   "execution_count": 70,
   "id": "e44165a2",
   "metadata": {},
   "outputs": [],
   "source": [
    "from sklearn.model_selection import train_test_split\n",
    "x_train, x_test, y_train, y_test = train_test_split(x, y, test_size=0.2, random_state=101)"
   ]
  },
  {
   "cell_type": "markdown",
   "id": "384efc35",
   "metadata": {},
   "source": [
    "# We can see our data is imbalanced 76% for 0 and 24% for 1. So balancing data through oversampling method RandomOverSampler."
   ]
  },
  {
   "cell_type": "code",
   "execution_count": 71,
   "id": "ddcb75ec",
   "metadata": {},
   "outputs": [
    {
     "data": {
      "text/plain": [
       "((39476, 50), (39476,))"
      ]
     },
     "execution_count": 71,
     "metadata": {},
     "output_type": "execute_result"
    }
   ],
   "source": [
    "from imblearn.over_sampling import RandomOverSampler\n",
    "over = RandomOverSampler(sampling_strategy='auto')\n",
    "x_over, y_over = over.fit_resample(x_train,y_train)\n",
    "x_over.shape,y_over.shape"
   ]
  },
  {
   "cell_type": "code",
   "execution_count": 72,
   "id": "1683ba2b",
   "metadata": {},
   "outputs": [
    {
     "ename": "SyntaxError",
     "evalue": "incomplete input (4161628997.py, line 1)",
     "output_type": "error",
     "traceback": [
      "\u001b[1;36m  File \u001b[1;32m\"C:\\Users\\deept\\AppData\\Local\\Temp\\ipykernel_8152\\4161628997.py\"\u001b[1;36m, line \u001b[1;32m1\u001b[0m\n\u001b[1;33m    print(2233\u001b[0m\n\u001b[1;37m              ^\u001b[0m\n\u001b[1;31mSyntaxError\u001b[0m\u001b[1;31m:\u001b[0m incomplete input\n"
     ]
    }
   ],
   "source": [
    "print(2233"
   ]
  },
  {
   "cell_type": "markdown",
   "id": "620d34c0",
   "metadata": {},
   "source": [
    "# Developing different models -"
   ]
  },
  {
   "cell_type": "markdown",
   "id": "2386d26b",
   "metadata": {},
   "source": [
    "# 1. Logistic Regression Model"
   ]
  },
  {
   "cell_type": "code",
   "execution_count": 73,
   "id": "2802e9be",
   "metadata": {},
   "outputs": [
    {
     "data": {
      "text/plain": [
       "LogisticRegression()"
      ]
     },
     "execution_count": 73,
     "metadata": {},
     "output_type": "execute_result"
    }
   ],
   "source": [
    "from sklearn.linear_model import LogisticRegression\n",
    "logreg_model = LogisticRegression()\n",
    "logreg_model.fit(x_over, y_over)"
   ]
  },
  {
   "cell_type": "code",
   "execution_count": null,
   "id": "a021c7d7",
   "metadata": {},
   "outputs": [],
   "source": [
    "# Predict result\n",
    "y_pred_train = logreg_model.predict(x_over)\n",
    "y_pred_test = logreg_model.predict(x_test)"
   ]
  },
  {
   "cell_type": "code",
   "execution_count": null,
   "id": "adacf3f3",
   "metadata": {},
   "outputs": [],
   "source": [
    "from sklearn.metrics import confusion_matrix, classification_report, accuracy_score\n",
    "print(\"classification_report\")\n",
    "print(classification_report(y_test, y_pred_test))"
   ]
  },
  {
   "cell_type": "code",
   "execution_count": null,
   "id": "bce5f3ff",
   "metadata": {},
   "outputs": [],
   "source": [
    "cm1=confusion_matrix(y_over, y_pred_train)\n",
    "cm2=confusion_matrix(y_test, y_pred_test)\n",
    "plt.figure(figsize=(10,2))\n",
    "\n",
    "plt.subplot(1,2,1)\n",
    "sns.heatmap(cm1, annot=True, fmt=\"d\")\n",
    "plt.title(' Logistic Regression - Confusion matrix - Train')\n",
    "plt.xlabel(\"Predicted Value\")\n",
    "plt.ylabel(\"Truth\")\n",
    "\n",
    "plt.subplot(1,2,2)\n",
    "sns.heatmap(cm2, annot=True, fmt=\"d\")\n",
    "plt.title('Logistic Regression -Confusion matrix - Test')\n",
    "plt.xlabel(\"Predicted Value\")\n",
    "plt.ylabel(\"Truth\")\n",
    "\n",
    "plt.show()\n"
   ]
  },
  {
   "cell_type": "code",
   "execution_count": null,
   "id": "361f0706",
   "metadata": {},
   "outputs": [],
   "source": [
    "print(\"Training Accuracy\", accuracy_score(y_over, y_pred_train))\n",
    "print(\"****************\"*5)\n",
    "print(\"Test Accuracy\", accuracy_score(y_test, y_pred_test))"
   ]
  },
  {
   "cell_type": "markdown",
   "id": "10152bda",
   "metadata": {},
   "source": [
    "# ROC curve = Receiver Operating Characteristic curve. \n",
    " 1. It is nothing but a graph displaying the performance of a classification model. \n",
    " 2. The theoretical range of the AUC ROC curve score is between 0 and 1\n",
    " \n"
   ]
  },
  {
   "cell_type": "code",
   "execution_count": null,
   "id": "44eebf8e",
   "metadata": {},
   "outputs": [],
   "source": [
    "from sklearn.metrics import RocCurveDisplay\n",
    "\n",
    "RocCurveDisplay.from_predictions(y_over,y_pred_train,name='Logistic Regression - Train')\n",
    "RocCurveDisplay.from_predictions(y_test,y_pred_test,name='Logistic Regression - Test')\n",
    "plt.show()\n"
   ]
  },
  {
   "cell_type": "code",
   "execution_count": null,
   "id": "b6a2ffa7",
   "metadata": {},
   "outputs": [],
   "source": [
    "### Doing cross validation for improving accuracy\n",
    "from sklearn.model_selection import cross_val_score\n",
    "train_accuracy = cross_val_score(logreg_model, x_over, y_over, cv=10)\n",
    "test_accuracy = cross_val_score(logreg_model, x_test, y_test, cv = 10)\n",
    "print(train_accuracy.mean())\n",
    "print(\"*********************\")\n",
    "print(test_accuracy.mean())"
   ]
  },
  {
   "cell_type": "markdown",
   "id": "fb1a2884",
   "metadata": {},
   "source": [
    "# 2. Desicion Tree Model"
   ]
  },
  {
   "cell_type": "code",
   "execution_count": null,
   "id": "6cbcad83",
   "metadata": {},
   "outputs": [],
   "source": [
    "from sklearn.tree import DecisionTreeClassifier\n",
    "dt = DecisionTreeClassifier(criterion='entropy',class_weight={0:1,1:5})\n",
    "dt.fit(x_over,y_over)\n",
    "y_pred_dt_train = dt.predict(x_over)\n",
    "y_pred_dt_test = dt.predict(x_test)\n",
    "print(classification_report(y_over, y_pred_dt_train))\n",
    "print(\"**********************************\")\n",
    "print(classification_report(y_test, y_pred_dt_test))\n",
    "print(\"**********************************\")\n",
    "print(\"Train Accuracy\", accuracy_score(y_over, y_pred_dt_train))\n",
    "print(\"**********************************\")\n",
    "print(\"Test Accuracy\", accuracy_score(y_test, y_pred_dt_test))\n",
    "\n"
   ]
  },
  {
   "cell_type": "code",
   "execution_count": null,
   "id": "e45e3419",
   "metadata": {},
   "outputs": [],
   "source": [
    "cm1=confusion_matrix(y_over, y_pred_dt_train)\n",
    "cm2=confusion_matrix(y_test, y_pred_dt_test)\n",
    "plt.figure(figsize=(10,2))\n",
    "\n",
    "plt.subplot(1,2,1)\n",
    "sns.heatmap(cm1, annot=True, fmt=\"d\")\n",
    "plt.title('Desicion Tree - Confusion matrix - Train')\n",
    "plt.xlabel(\"Predicted Value\")\n",
    "plt.ylabel(\"Truth\")\n",
    "\n",
    "plt.subplot(1,2,2)\n",
    "sns.heatmap(cm2, annot=True, fmt=\"d\")\n",
    "plt.title('Desicion Tree -Confusion matrix - Test')\n",
    "plt.xlabel(\"Predicted Value\")\n",
    "plt.ylabel(\"Truth\")\n",
    "\n",
    "plt.show()\n"
   ]
  },
  {
   "cell_type": "code",
   "execution_count": null,
   "id": "80708059",
   "metadata": {},
   "outputs": [],
   "source": [
    "# Doing cross validation for improving accuracy\n",
    "from sklearn.model_selection import cross_val_score\n",
    "train_accuracy = cross_val_score(dt, x_over, y_over, cv=20)\n",
    "test_accuracy = cross_val_score(dt, x_test, y_test, cv = 20)\n",
    "print(train_accuracy.mean())\n",
    "print(\"*********************\")\n",
    "print(test_accuracy.mean())"
   ]
  },
  {
   "cell_type": "code",
   "execution_count": null,
   "id": "22917038",
   "metadata": {},
   "outputs": [],
   "source": [
    "from sklearn.metrics import RocCurveDisplay\n",
    "\n",
    "RocCurveDisplay.from_predictions(y_over,y_pred_dt_train,name='Desicion Tree - Train')\n",
    "RocCurveDisplay.from_predictions(y_test,y_pred_dt_test,name='Desicion Tree - Test')\n",
    "plt.show()\n"
   ]
  },
  {
   "cell_type": "code",
   "execution_count": null,
   "id": "13edb43e",
   "metadata": {},
   "outputs": [],
   "source": [
    "17print(''"
   ]
  },
  {
   "cell_type": "markdown",
   "id": "d39c3ca8",
   "metadata": {},
   "source": [
    "# 3. KNN Model -"
   ]
  },
  {
   "cell_type": "code",
   "execution_count": null,
   "id": "10b9fb2f",
   "metadata": {},
   "outputs": [],
   "source": [
    "from sklearn.neighbors import KNeighborsClassifier\n",
    "k = 4\n",
    "#Train Model and Predict  \n",
    "neigh = KNeighborsClassifier(n_neighbors = k).fit(x_over,y_over)\n",
    "neigh"
   ]
  },
  {
   "cell_type": "code",
   "execution_count": null,
   "id": "f04f0b6e",
   "metadata": {},
   "outputs": [],
   "source": [
    "y_pred_knn_train = neigh.predict(x_over)\n",
    "y_pred_knn_test = neigh.predict(x_test)"
   ]
  },
  {
   "cell_type": "code",
   "execution_count": null,
   "id": "8e8d2eb8",
   "metadata": {},
   "outputs": [],
   "source": [
    "print(classification_report(y_over, y_pred_knn_train))\n",
    "print(\"**********************************\")\n",
    "print(classification_report(y_test, y_pred_knn_test))\n",
    "print(\"**********************************\")\n",
    "print(\"Train Accuracy\", accuracy_score(y_over, y_pred_knn_train))\n",
    "print(\"**********************************\")\n",
    "print(\"Test Accuracy\", accuracy_score(y_test, y_pred_knn_test))"
   ]
  },
  {
   "cell_type": "code",
   "execution_count": null,
   "id": "f6c3586a",
   "metadata": {},
   "outputs": [],
   "source": [
    "cm1=confusion_matrix(y_over, y_pred_knn_train)\n",
    "cm2=confusion_matrix(y_test, y_pred_knn_test)\n",
    "plt.figure(figsize=(10,2))\n",
    "\n",
    "plt.subplot(1,2,1)\n",
    "sns.heatmap(cm1, annot=True, fmt=\"d\")\n",
    "plt.title('KNN - Confusion matrix - Train')\n",
    "plt.xlabel(\"Predicted Value\")\n",
    "plt.ylabel(\"Truth\")\n",
    "\n",
    "plt.subplot(1,2,2)\n",
    "sns.heatmap(cm2, annot=True, fmt=\"d\")\n",
    "plt.title('KNN -Confusion matrix - Test')\n",
    "plt.xlabel(\"Predicted Value\")\n",
    "plt.ylabel(\"Truth\")\n",
    "\n",
    "plt.show()"
   ]
  },
  {
   "cell_type": "code",
   "execution_count": null,
   "id": "9c0d195f",
   "metadata": {},
   "outputs": [],
   "source": [
    "# Doing cross validation for improving accuracy\n",
    "from sklearn.model_selection import cross_val_score\n",
    "train_accuracy = cross_val_score(neigh, x_over, y_over, cv=10)\n",
    "test_accuracy = cross_val_score(neigh, x_test, y_test, cv = 10)\n",
    "print(train_accuracy.mean())\n",
    "print(\"*********************\")\n",
    "print(test_accuracy.mean())"
   ]
  },
  {
   "cell_type": "code",
   "execution_count": null,
   "id": "112e7bfe",
   "metadata": {},
   "outputs": [],
   "source": [
    "from sklearn.metrics import RocCurveDisplay\n",
    "\n",
    "RocCurveDisplay.from_predictions(y_over,y_pred_knn_train,name='KNN - Train')\n",
    "RocCurveDisplay.from_predictions(y_test,y_pred_knn_test,name='KNN - Test')\n",
    "plt.show()\n"
   ]
  },
  {
   "cell_type": "markdown",
   "id": "243539d9",
   "metadata": {},
   "source": [
    "# 4. SVM Model-"
   ]
  },
  {
   "cell_type": "code",
   "execution_count": null,
   "id": "2ec4f26d",
   "metadata": {},
   "outputs": [],
   "source": [
    "from sklearn.svm import SVC\n",
    "svc_model = SVC(kernel='rbf')\n",
    "svc_model.fit(x_over, y_over) "
   ]
  },
  {
   "cell_type": "code",
   "execution_count": null,
   "id": "feca137d",
   "metadata": {},
   "outputs": [],
   "source": [
    "y_pred_svc_train = svc_model.predict(x_over)\n",
    "y_pred_svc_test = svc_model.predict(x_test)"
   ]
  },
  {
   "cell_type": "code",
   "execution_count": null,
   "id": "bbc7e686",
   "metadata": {},
   "outputs": [],
   "source": [
    "print(classification_report(y_over, y_pred_svc_train))\n",
    "print(\"**********************************\")\n",
    "print(classification_report(y_test, y_pred_svc_test))\n",
    "print(\"**********************************\")\n",
    "print(\"Train Accuracy\", accuracy_score(y_over, y_pred_svc_train))\n",
    "print(\"**********************************\")\n",
    "print(\"Test Accuracy\", accuracy_score(y_test, y_pred_svc_test))"
   ]
  },
  {
   "cell_type": "code",
   "execution_count": null,
   "id": "5af131f0",
   "metadata": {},
   "outputs": [],
   "source": [
    "cm=confusion_matrix(y_over, y_pred_svc_train)\n",
    "plt.figure(figsize=(4,2))\n",
    "sns.heatmap(cm, annot=True, fmt=\"d\")\n",
    "plt.title('SVM - Confusion matrix')\n",
    "plt.xlabel(\"Predicted Value\")\n",
    "plt.ylabel(\"Truth\")\n",
    "plt.show()"
   ]
  },
  {
   "cell_type": "code",
   "execution_count": null,
   "id": "d4e6ab09",
   "metadata": {},
   "outputs": [],
   "source": [
    "from sklearn.metrics import RocCurveDisplay\n",
    "\n",
    "RocCurveDisplay.from_predictions(y_over,y_pred_svc_train,name='SVC - Train')\n",
    "RocCurveDisplay.from_predictions(y_test,y_pred_svc_test,name='SVC - Test')\n",
    "plt.show()\n"
   ]
  },
  {
   "cell_type": "markdown",
   "id": "565484b0",
   "metadata": {},
   "source": [
    "# 5. Naive Bayes Model-"
   ]
  },
  {
   "cell_type": "code",
   "execution_count": null,
   "id": "db0eb81b",
   "metadata": {},
   "outputs": [],
   "source": [
    "from sklearn.naive_bayes import BernoulliNB\n",
    "naive = BernoulliNB()  \n",
    "naive.fit(x_over, y_over) "
   ]
  },
  {
   "cell_type": "code",
   "execution_count": null,
   "id": "3f193de6",
   "metadata": {},
   "outputs": [],
   "source": [
    "y_pred_naive_train = naive.predict(x_over)\n",
    "y_pred_naive_test = naive.predict(x_test)"
   ]
  },
  {
   "cell_type": "code",
   "execution_count": null,
   "id": "98a70fb3",
   "metadata": {},
   "outputs": [],
   "source": [
    "print(classification_report(y_over, y_pred_naive_train))\n",
    "print(\"**********************************\")\n",
    "print(classification_report(y_test, y_pred_naive_test))\n",
    "print(\"**********************************\")\n",
    "print(\"Train Accuracy\", accuracy_score(y_over, y_pred_naive_train))\n",
    "print(\"**********************************\")\n",
    "print(\"Test Accuracy\", accuracy_score(y_test, y_pred_naive_test))"
   ]
  },
  {
   "cell_type": "code",
   "execution_count": null,
   "id": "9d46d1c1",
   "metadata": {},
   "outputs": [],
   "source": [
    "cm1=confusion_matrix(y_over, y_pred_naive_train)\n",
    "cm2=confusion_matrix(y_test, y_pred_naive_test)\n",
    "plt.figure(figsize=(10,2))\n",
    "\n",
    "plt.subplot(1,2,1)\n",
    "sns.heatmap(cm1, annot=True, fmt=\"d\")\n",
    "plt.title('Naive bayes- Confusion matrix - Train')\n",
    "plt.xlabel(\"Predicted Value\")\n",
    "plt.ylabel(\"Truth\")\n",
    "\n",
    "plt.subplot(1,2,2)\n",
    "sns.heatmap(cm2, annot=True, fmt=\"d\")\n",
    "plt.title('Naive bayes- Confusion matrix - Test')\n",
    "plt.xlabel(\"Predicted Value\")\n",
    "plt.ylabel(\"Truth\")\n",
    "\n",
    "plt.show()"
   ]
  },
  {
   "cell_type": "code",
   "execution_count": null,
   "id": "3e2579ed",
   "metadata": {},
   "outputs": [],
   "source": [
    "# Doing cross validation for improving accuracy\n",
    "#from sklearn.model_selection import cross_val_score\n",
    "train_accuracy = cross_val_score(naive, x_over, y_over, cv=10)\n",
    "test_accuracy = cross_val_score(naive, x_test, y_test, cv = 10)\n",
    "print(train_accuracy.mean())\n",
    "print(\"*********************\")\n",
    "print(test_accuracy.mean())"
   ]
  },
  {
   "cell_type": "code",
   "execution_count": null,
   "id": "ea409e08",
   "metadata": {},
   "outputs": [],
   "source": [
    "from sklearn.metrics import RocCurveDisplay\n",
    "\n",
    "RocCurveDisplay.from_predictions(y_over,y_pred_naive_train,name='Naive Bayes - Train')\n",
    "RocCurveDisplay.from_predictions(y_test,y_pred_naive_test,name='Naive Bayes - Test')\n",
    "plt.show()\n"
   ]
  },
  {
   "cell_type": "markdown",
   "id": "9ec570d2",
   "metadata": {},
   "source": [
    "# 6.random Forest"
   ]
  },
  {
   "cell_type": "code",
   "execution_count": null,
   "id": "dac420a8",
   "metadata": {},
   "outputs": [],
   "source": [
    "from sklearn.ensemble import RandomForestClassifier\n",
    "rf=RandomForestClassifier()\n",
    "rf.fit(x_over,y_over)"
   ]
  },
  {
   "cell_type": "code",
   "execution_count": null,
   "id": "87a967b5",
   "metadata": {},
   "outputs": [],
   "source": [
    "y_pred_rf_train = rf.predict(x_over)\n",
    "y_pred_rf_test = rf.predict(x_test)"
   ]
  },
  {
   "cell_type": "code",
   "execution_count": null,
   "id": "32e34d86",
   "metadata": {},
   "outputs": [],
   "source": [
    "print(classification_report(y_over, y_pred_rf_train))\n",
    "print(\"**********************************\")\n",
    "print(classification_report(y_test, y_pred_rf_test))\n",
    "print(\"**********************************\")\n",
    "print(\"Train Accuracy\", accuracy_score(y_over, y_pred_rf_train))\n",
    "print(\"**********************************\")\n",
    "print(\"Test Accuracy\", accuracy_score(y_test, y_pred_rf_test))"
   ]
  },
  {
   "cell_type": "code",
   "execution_count": null,
   "id": "ebc032b0",
   "metadata": {},
   "outputs": [],
   "source": [
    "cm1=confusion_matrix(y_over, y_pred_rf_train)\n",
    "cm2=confusion_matrix(y_test, y_pred_rf_test)\n",
    "plt.figure(figsize=(10,2))\n",
    "\n",
    "plt.subplot(1,2,1)\n",
    "sns.heatmap(cm1, annot=True, fmt=\"d\")\n",
    "plt.title('Random forest- Confusion matrix - Train')\n",
    "plt.xlabel(\"Predicted Value\")\n",
    "plt.ylabel(\"Truth\")\n",
    "\n",
    "plt.subplot(1,2,2)\n",
    "sns.heatmap(cm2, annot=True, fmt=\"d\")\n",
    "plt.title('Random forest- Confusion matrix - Test')\n",
    "plt.xlabel(\"Predicted Value\")\n",
    "plt.ylabel(\"Truth\")\n",
    "\n",
    "plt.show()"
   ]
  },
  {
   "cell_type": "code",
   "execution_count": null,
   "id": "58e26b2e",
   "metadata": {},
   "outputs": [],
   "source": [
    "# Doing cross validation for improving accuracy\n",
    "#from sklearn.model_selection import cross_val_score\n",
    "train_accuracy = cross_val_score(rf, x_over, y_over, cv=10)\n",
    "test_accuracy = cross_val_score(rf, x_test, y_test, cv = 10)\n",
    "print(train_accuracy.mean())\n",
    "print(\"*********************\")\n",
    "print(test_accuracy.mean())"
   ]
  },
  {
   "cell_type": "code",
   "execution_count": null,
   "id": "aa868d8f",
   "metadata": {},
   "outputs": [],
   "source": [
    "from sklearn.metrics import RocCurveDisplay\n",
    "\n",
    "RocCurveDisplay.from_predictions(y_over,y_pred_rf_train,name='Random Forest - Train')\n",
    "RocCurveDisplay.from_predictions(y_test,y_pred_rf_test,name='Random Forest - Test')\n",
    "plt.show()\n"
   ]
  },
  {
   "cell_type": "markdown",
   "id": "dd3cce7c",
   "metadata": {},
   "source": [
    "# 7. XGBoost"
   ]
  },
  {
   "cell_type": "code",
   "execution_count": null,
   "id": "7f3c9dd4",
   "metadata": {},
   "outputs": [],
   "source": [
    "import xgboost as xgb\n",
    "xgb_cl = xgb.XGBClassifier(objective=\"binary:logistic\",learning_rate=0.5)\n",
    "xgb_cl.fit(x_over, y_over)\n"
   ]
  },
  {
   "cell_type": "code",
   "execution_count": null,
   "id": "fc9e8ac0",
   "metadata": {},
   "outputs": [],
   "source": [
    "y_pred_XGB_train = xgb_cl.predict(x_over)\n",
    "y_pred_XGB_test = xgb_cl.predict(x_test)\n"
   ]
  },
  {
   "cell_type": "code",
   "execution_count": null,
   "id": "a74db18b",
   "metadata": {},
   "outputs": [],
   "source": [
    "print(classification_report(y_over, y_pred_XGB_train))\n",
    "print(\"**********************************\")\n",
    "print(classification_report(y_test, y_pred_XGB_test))\n",
    "print(\"**********************************\")\n",
    "print(\"Train Accuracy\", accuracy_score(y_over, y_pred_XGB_train))\n",
    "print(\"**********************************\")\n",
    "print(\"Test Accuracy\", accuracy_score(y_test, y_pred_XGB_test))"
   ]
  },
  {
   "cell_type": "code",
   "execution_count": null,
   "id": "3327c23f",
   "metadata": {},
   "outputs": [],
   "source": [
    "cm1=confusion_matrix(y_over, y_pred_XGB_train)\n",
    "cm2=confusion_matrix(y_test, y_pred_XGB_test)\n",
    "plt.figure(figsize=(10,2))\n",
    "\n",
    "plt.subplot(1,2,1)\n",
    "sns.heatmap(cm1, annot=True, fmt=\"d\")\n",
    "plt.title('XGB- Confusion Matrix - Train')\n",
    "plt.xlabel(\"Predicted Value\")\n",
    "plt.ylabel(\"Truth\")\n",
    "\n",
    "plt.subplot(1,2,2)\n",
    "sns.heatmap(cm2, annot=True, fmt=\"d\")\n",
    "plt.title('XGB- Confusion matrix - Test')\n",
    "plt.xlabel(\"Predicted Value\")\n",
    "plt.ylabel(\"Truth\")\n",
    "\n",
    "plt.show()"
   ]
  },
  {
   "cell_type": "code",
   "execution_count": null,
   "id": "e91f9840",
   "metadata": {},
   "outputs": [],
   "source": [
    "from sklearn.metrics import RocCurveDisplay\n",
    "\n",
    "RocCurveDisplay.from_predictions(y_over,y_pred_XGB_train,name='XGBoost - Train')\n",
    "RocCurveDisplay.from_predictions(y_test,y_pred_XGB_test,name='XGBoost - Test')\n",
    "plt.show()\n"
   ]
  },
  {
   "cell_type": "code",
   "execution_count": null,
   "id": "6e1602ef",
   "metadata": {},
   "outputs": [],
   "source": [
    "# Doing cross validation for improving accuracy\n",
    "#from sklearn.model_selection import cross_val_score\n",
    "train_accuracy = cross_val_score(xgb_cl, x_over, y_over, cv=10)\n",
    "test_accuracy = cross_val_score(xgb_cl, x_test, y_test, cv = 10)\n",
    "print(train_accuracy.mean())\n",
    "print(\"*********************\")\n",
    "print(test_accuracy.mean())"
   ]
  },
  {
   "cell_type": "markdown",
   "id": "b481fc2d",
   "metadata": {},
   "source": [
    "# We could see XGBoost, Randomforest,Logistic Reg,Desicion Tree are performing best. But SVM, KNN are slow and time consuming.\n",
    "\n",
    "\t\n",
    "\n"
   ]
  },
  {
   "cell_type": "markdown",
   "id": "f3a36e4f",
   "metadata": {},
   "source": [
    "# Now 2nd part of our project - Identify the factors that contribute to higher incomes."
   ]
  },
  {
   "cell_type": "markdown",
   "id": "68cf248b",
   "metadata": {},
   "source": [
    "# 1. SelectKBest approach -"
   ]
  },
  {
   "cell_type": "markdown",
   "id": "a66f4c38",
   "metadata": {},
   "source": [
    "# SelectKBest\n",
    " - It select features according to the k highest scores  based on univariate statistical tests.\n",
    " - These object take as input a scoring function that returns univariate scores and p-values.\n",
    " - mutual_info_classif gives Mutual information (MI) [1] between two random variables. It is a non-negative value, which measures the dependency between the variables. It is equal to zero if and only if two random variables are independent, and higher values mean higher dependency.It is based on entropy estimation from k-nearest neighbors distances.\n",
    " - If you use sparse data (i.e. data represented as sparse matrices), mutual_info_classif will deal with the data without making it dense."
   ]
  },
  {
   "cell_type": "code",
   "execution_count": null,
   "id": "e24cac39",
   "metadata": {},
   "outputs": [],
   "source": [
    "from sklearn.feature_selection import SelectKBest,mutual_info_classif\n",
    "bestfeatures=SelectKBest(score_func=mutual_info_classif)\n",
    "best_features=bestfeatures.fit(x,y)"
   ]
  },
  {
   "cell_type": "code",
   "execution_count": null,
   "id": "ef6bc11b",
   "metadata": {},
   "outputs": [],
   "source": [
    "dfscores=pd.DataFrame(best_features.scores_)\n",
    "dfcolumns=pd.DataFrame(x.columns)\n",
    "features_score=pd.concat([dfcolumns,dfscores],axis=1)\n"
   ]
  },
  {
   "cell_type": "code",
   "execution_count": null,
   "id": "6b8425e9",
   "metadata": {},
   "outputs": [],
   "source": [
    "features_score.columns=[\"Features\",\"Score\"]\n",
    "features_score.sort_values('Score',ascending=False)"
   ]
  },
  {
   "cell_type": "code",
   "execution_count": null,
   "id": "4c79a81f",
   "metadata": {},
   "outputs": [],
   "source": [
    "best_features=features_score.nlargest(15,\"Score\")\n",
    "best_features"
   ]
  },
  {
   "cell_type": "markdown",
   "id": "c0517385",
   "metadata": {},
   "source": [
    "# 2. Random Forest Approach -"
   ]
  },
  {
   "cell_type": "code",
   "execution_count": null,
   "id": "cd99944d",
   "metadata": {},
   "outputs": [],
   "source": [
    "imp_features=pd.DataFrame({'Features':x.columns,'Importance':rf.feature_importances_})"
   ]
  },
  {
   "cell_type": "code",
   "execution_count": null,
   "id": "379ca6b7",
   "metadata": {},
   "outputs": [],
   "source": [
    "imp_features=imp_features.sort_values('Importance',ascending=False).head(15)\n",
    "imp_features"
   ]
  },
  {
   "cell_type": "markdown",
   "id": "a3d569bb",
   "metadata": {},
   "source": [
    "# we could see both the approaches give almost the same result, only scores and importance weightage is differing."
   ]
  },
  {
   "cell_type": "code",
   "execution_count": null,
   "id": "6377a57f",
   "metadata": {},
   "outputs": [],
   "source": [
    "imp_features_datafile=x_train.columns[imp_features.index]"
   ]
  },
  {
   "cell_type": "code",
   "execution_count": null,
   "id": "07e21f66",
   "metadata": {},
   "outputs": [],
   "source": [
    "imp_features_datafile"
   ]
  },
  {
   "cell_type": "code",
   "execution_count": null,
   "id": "769b46a0",
   "metadata": {},
   "outputs": [],
   "source": [
    "x_train2=x_train[imp_features_datafile]\n",
    "x_train2"
   ]
  },
  {
   "cell_type": "markdown",
   "id": "57d5efd4",
   "metadata": {},
   "source": [
    "# This selected features datafile can be used to generate score for each employee."
   ]
  },
  {
   "cell_type": "code",
   "execution_count": null,
   "id": "498360ba",
   "metadata": {},
   "outputs": [],
   "source": [
    "x_train2[\"Score\"]=x_train2[['Age','Hours_per_week','Marital_status_ Married-civ-spouse','Capital_gain','Education_num',\n",
    "                            'Marital_status_ Never-married','Relationship_ Not-in-family','Capital_loss','Gender',\n",
    "                           'Relationship_ Own-child','Education_High School','Occupation_Exec-managerial',\n",
    "                           'Occupation_Other-service','Relationship_ Unmarried','Occupation_Prof-specialty']].sum(axis=1)\n",
    "x_train2.head()"
   ]
  },
  {
   "cell_type": "code",
   "execution_count": null,
   "id": "d452a5e7",
   "metadata": {},
   "outputs": [],
   "source": [
    "x_train2['Score'].describe()"
   ]
  },
  {
   "cell_type": "markdown",
   "id": "6133ca8c",
   "metadata": {},
   "source": [
    "# Here we can see that score is between -4 to 22. This can help to identify the potential employees for further analysis. \n"
   ]
  },
  {
   "cell_type": "markdown",
   "id": "ae0a8937",
   "metadata": {},
   "source": [
    "# Conclusion -\n",
    "\n",
    "This income evaluation prediction ML model can be used for various statistical purpose -\n",
    "    \n",
    "    1. Predict whether employees can be given loans or other benefits according to their income.\n",
    "    \n",
    "    2. Assigning scores to employees for giving them credibility by using best features related to income.\n",
    "    \n",
    "    3. This scores can be utilized to create different categories of employees-\n",
    "        1. Old age,High income, Highly educated.\n",
    "        2. Middle aged, Middle income, Average educated.\n",
    "        3. Young, Low income, Low educated\n",
    "        \n",
    "    4. Since we have used 1 for encoding Females in Gender, this can be helpful to encourage females in getting benefits by having good score."
   ]
  },
  {
   "cell_type": "markdown",
   "id": "ae326d6d",
   "metadata": {},
   "source": [
    "# ***************************** End Of Project ****************************************"
   ]
  },
  {
   "cell_type": "markdown",
   "id": "36e46030",
   "metadata": {},
   "source": [
    "Made By-\n",
    "Dipti Sehit,\n",
    "Ludhiana, Punjab."
   ]
  }
 ],
 "metadata": {
  "kernelspec": {
   "display_name": "Python 3 (ipykernel)",
   "language": "python",
   "name": "python3"
  },
  "language_info": {
   "codemirror_mode": {
    "name": "ipython",
    "version": 3
   },
   "file_extension": ".py",
   "mimetype": "text/x-python",
   "name": "python",
   "nbconvert_exporter": "python",
   "pygments_lexer": "ipython3",
   "version": "3.10.9"
  }
 },
 "nbformat": 4,
 "nbformat_minor": 5
}
